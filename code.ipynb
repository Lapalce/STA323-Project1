{
 "cells": [
  {
   "cell_type": "code",
   "execution_count": 1,
   "id": "18b3a7ce-2a04-456c-b08c-a75ebbf6c7fa",
   "metadata": {
    "tags": []
   },
   "outputs": [
    {
     "data": {
      "text/plain": [
       "'3.5.0'"
      ]
     },
     "execution_count": 1,
     "metadata": {},
     "output_type": "execute_result"
    }
   ],
   "source": [
    "import pandas as pd\n",
    "import numpy as np\n",
    "import os\n",
    "import glob\n",
    "import tempfile\n",
    "\n",
    "import pyspark\n",
    "import pyspark.sql.functions as F\n",
    "from pyspark.sql import SparkSession\n",
    "from pyspark.sql import Row\n",
    "from pyspark.sql.functions import col, explode, split, sum as spark_sum, countDistinct, collect_list, to_timestamp, lit, round\n",
    "from pyspark.sql.types import StructType, StructField, StringType, IntegerType \n",
    "\n",
    "pyspark.__version__"
   ]
  },
  {
   "cell_type": "code",
   "execution_count": 2,
   "id": "1bef8b31-0b65-4746-aadc-69f0494ab8e1",
   "metadata": {},
   "outputs": [
    {
     "name": "stderr",
     "output_type": "stream",
     "text": [
      "Setting default log level to \"WARN\".\n",
      "To adjust logging level use sc.setLogLevel(newLevel). For SparkR, use setLogLevel(newLevel).\n",
      "24/04/18 06:27:08 WARN NativeCodeLoader: Unable to load native-hadoop library for your platform... using builtin-java classes where applicable\n"
     ]
    },
    {
     "data": {
      "text/plain": [
       "DataFrame[key: string, value: string]"
      ]
     },
     "execution_count": 2,
     "metadata": {},
     "output_type": "execute_result"
    }
   ],
   "source": [
    "spark = SparkSession.builder.config('spark.ui.port', 64053).appName(\"project1\").getOrCreate()\n",
    "spark.sql(\"set spark.sql.legacy.timeParserPolicy=LEGACY\")"
   ]
  },
  {
   "cell_type": "markdown",
   "id": "3ad24ef9-00fd-4dad-8ddc-38ec72f362c9",
   "metadata": {},
   "source": [
    "# Q1"
   ]
  },
  {
   "cell_type": "code",
   "execution_count": 3,
   "id": "937c62ca-ef74-424a-9366-81aa5a265867",
   "metadata": {
    "tags": []
   },
   "outputs": [
    {
     "name": "stdout",
     "output_type": "stream",
     "text": [
      "['dns(0).log.gz', 'dns(1).log.gz', 'dns(2).log.gz', 'dns(3).log.gz', 'dns(4).log.gz', 'dns(5).log.gz'] ['http(0).log.gz', 'http(1).log.gz', 'http(2).log.gz', 'http(3).log.gz', 'http(4).log.gz', 'http(5).log.gz']\n"
     ]
    }
   ],
   "source": [
    "# 文件路径\n",
    "dir_dns = './Q1_data/dns/'\n",
    "dir_http = './Q1_data/http/'\n",
    "dns_files = os.listdir(dir_dns)\n",
    "http_files = os.listdir(dir_http)\n",
    "dns_files.sort()\n",
    "http_files.sort()\n",
    "print(dns_files, http_files)"
   ]
  },
  {
   "cell_type": "markdown",
   "id": "5e33b0db-e140-4a68-927b-dc7229e42532",
   "metadata": {},
   "source": [
    "## （1）sort"
   ]
  },
  {
   "cell_type": "code",
   "execution_count": 3,
   "id": "d62380f8-ae3e-4181-a158-33b6a0fd2d7e",
   "metadata": {
    "tags": []
   },
   "outputs": [],
   "source": [
    "from pyspark.sql.types import StructType, StructField, StringType, LongType, BooleanType, DoubleType,ArrayType\n",
    "schema_dns = StructType([  \n",
    "    StructField(\"AA\", BooleanType(), True),  \n",
    "    StructField(\"RA\", BooleanType(), True),  \n",
    "    StructField(\"RD\", BooleanType(), True),  \n",
    "    StructField(\"TC\", BooleanType(), True),  \n",
    "    StructField(\"TTLs\", ArrayType(DoubleType(), True), True),  # 假设NULL字段对应NullType  \n",
    "    StructField(\"Z\", IntegerType(), True),  \n",
    "    StructField(\"answers\", ArrayType(StringType(), True), True),  # 假设NULL字段对应NullType  \n",
    "    StructField(\"id.orig_h\", StringType(), True),  \n",
    "    StructField(\"id.orig_p\", IntegerType(), True),  \n",
    "    StructField(\"id.resp_h\", StringType(), True),  \n",
    "    StructField(\"id.resp_p\", IntegerType(), True),  \n",
    "    StructField(\"proto\", StringType(), True),  \n",
    "    StructField(\"qclass\", IntegerType(), True),  \n",
    "    StructField(\"qclass_name\", StringType(), True),  \n",
    "    StructField(\"qtype\", IntegerType(), True),  \n",
    "    StructField(\"qtype_name\", StringType(), True),  \n",
    "    StructField(\"query\", StringType(), True),  \n",
    "    StructField(\"rcode\", IntegerType(), True),  \n",
    "    StructField(\"rcode_name\", StringType(), True),  \n",
    "    StructField(\"rejected\", BooleanType(), True),  \n",
    "    StructField(\"rtt\", DoubleType(), True),  # 假设NULL字段对应NullType  \n",
    "    StructField(\"trans_id\", IntegerType(), True),  \n",
    "    StructField(\"ts\", LongType(), True),  \n",
    "    StructField(\"uid\", StringType(), True),  \n",
    "])\n",
    "# 创建一个空的RDD  \n",
    "empty_rdd = spark.sparkContext.emptyRDD()"
   ]
  },
  {
   "cell_type": "code",
   "execution_count": 5,
   "id": "adc9dcee-5152-4a25-b25e-981b13adf393",
   "metadata": {},
   "outputs": [
    {
     "name": "stderr",
     "output_type": "stream",
     "text": [
      "                                                                                \r"
     ]
    },
    {
     "name": "stdout",
     "output_type": "stream",
     "text": [
      "the file dns(0).log.gz has 14862 records\n",
      "the file dns(1).log.gz has 8532 records\n",
      "the file dns(2).log.gz has 6381 records\n",
      "the file dns(3).log.gz has 902 records\n",
      "the file dns(4).log.gz has 7422 records\n",
      "the file dns(5).log.gz has 23684 records\n",
      "the total records of 6 dns files is 61783\n",
      "the df_dns has 61783 records\n"
     ]
    }
   ],
   "source": [
    "df_dns = spark.createDataFrame(empty_rdd, schema_dns)# 依据schema生成空的df\n",
    "sum_r = 0\n",
    "for file in dns_files:\n",
    "    tmp_df = spark.read.format(\"json\")\\\n",
    "  .option(\"header\", \"true\")\\\n",
    "  .option(\"inferSchema\", \"true\")\\\n",
    "  .load(f'{dir_dns}{file}')\n",
    "    sum_r += tmp_df.count()\n",
    "    print(f'the file {file} has {tmp_df.count()} records')\n",
    "    df_dns = df_dns.union(tmp_df)\n",
    "    \n",
    "print(f'the total records of 6 dns files is {sum_r}')\n",
    "print(f'the df_dns has {df_dns.count()} records')"
   ]
  },
  {
   "cell_type": "code",
   "execution_count": 6,
   "id": "f0e17ae8-02e9-4d25-b530-f7ff5271ab37",
   "metadata": {},
   "outputs": [],
   "source": [
    "schema_http = StructType([\n",
    "    StructField(\"host\", StringType(), nullable=True),\n",
    "    StructField(\"id.orig_h\", StringType(), nullable=True),\n",
    "    StructField(\"id.orig_p\", LongType(), nullable=True),\n",
    "    StructField(\"id.resp_h\", StringType(), nullable=True),\n",
    "    StructField(\"id.resp_p\", LongType(), nullable=True),\n",
    "    StructField(\"method\", StringType(), nullable=True),\n",
    "    StructField(\"orig_filenames\", ArrayType(StringType()), nullable=True),\n",
    "    StructField(\"orig_fuids\", ArrayType(StringType()), nullable=True),\n",
    "    StructField(\"orig_mime_types\", ArrayType(StringType()), nullable=True),\n",
    "    StructField(\"origin\", StringType(), nullable=True),\n",
    "    StructField(\"proxied\", ArrayType(StringType()), nullable=True),\n",
    "    StructField(\"referrer\", StringType(), nullable=True),\n",
    "    StructField(\"request_body_len\", LongType(), nullable=True),\n",
    "    # StructField(\"resp_filenames\", ArrayType(StringType()), nullable=True),\n",
    "    StructField(\"resp_fuids\", ArrayType(StringType()), nullable=True),\n",
    "    StructField(\"resp_mime_types\", ArrayType(StringType()), nullable=True),\n",
    "    StructField(\"response_body_len\", LongType(), nullable=True),\n",
    "    StructField(\"status_code\", LongType(), nullable=True),\n",
    "    StructField(\"status_msg\", StringType(), nullable=True),\n",
    "    StructField(\"tags\", ArrayType(StringType()), nullable=True),\n",
    "    StructField(\"trans_depth\", LongType(), nullable=True),\n",
    "    StructField(\"ts\", DoubleType(), nullable=True),\n",
    "    StructField(\"uid\", StringType(), nullable=True),\n",
    "    StructField(\"uri\", StringType(), nullable=True),\n",
    "    StructField(\"user_agent\", StringType(), nullable=True),\n",
    "    StructField(\"username\", StringType(), nullable=True),\n",
    "    StructField(\"version\", StringType(), nullable=True)\n",
    "])"
   ]
  },
  {
   "cell_type": "code",
   "execution_count": 7,
   "id": "a5613ebe-93df-4f01-bd3b-cc04c4d25016",
   "metadata": {
    "tags": []
   },
   "outputs": [
    {
     "name": "stderr",
     "output_type": "stream",
     "text": [
      "                                                                                \r"
     ]
    },
    {
     "name": "stdout",
     "output_type": "stream",
     "text": [
      "the file http(0).log.gz has 78194 records\n",
      "the file http(1).log.gz has 12129 records\n"
     ]
    },
    {
     "name": "stderr",
     "output_type": "stream",
     "text": [
      "24/04/17 11:50:01 WARN SparkStringUtils: Truncated the string representation of a plan since it was too large. This behavior can be adjusted by setting 'spark.sql.debug.maxToStringFields'.\n"
     ]
    },
    {
     "name": "stdout",
     "output_type": "stream",
     "text": [
      "the file http(2).log.gz has 3815 records\n",
      "the file http(3).log.gz has 3172 records\n"
     ]
    },
    {
     "name": "stderr",
     "output_type": "stream",
     "text": [
      "                                                                                \r"
     ]
    },
    {
     "name": "stdout",
     "output_type": "stream",
     "text": [
      "the file http(4).log.gz has 35063 records\n"
     ]
    },
    {
     "name": "stderr",
     "output_type": "stream",
     "text": [
      "                                                                                \r"
     ]
    },
    {
     "name": "stdout",
     "output_type": "stream",
     "text": [
      "the file http(5).log.gz has 53473 records\n",
      "the total records of 6 http files is 185846\n"
     ]
    },
    {
     "name": "stderr",
     "output_type": "stream",
     "text": [
      "[Stage 87:================================================>         (5 + 1) / 6]\r"
     ]
    },
    {
     "name": "stdout",
     "output_type": "stream",
     "text": [
      "the df_http has 185846 records\n"
     ]
    },
    {
     "name": "stderr",
     "output_type": "stream",
     "text": [
      "                                                                                \r"
     ]
    }
   ],
   "source": [
    "df_http = spark.createDataFrame(empty_rdd, schema_http)# 依据schema生成空的df\n",
    "sum_r = 0\n",
    "for file in http_files:\n",
    "    tmp_df = spark.read.format(\"json\")\\\n",
    "  .option(\"header\", \"true\")\\\n",
    "  .option(\"inferSchema\", \"true\")\\\n",
    "  .load(f'{dir_http}{file}')\n",
    "    sum_r += tmp_df.count()\n",
    "    print(f'the file {file} has {tmp_df.count()} records')\n",
    "    try:\n",
    "        df_http = df_http.union(tmp_df)\n",
    "    except:\n",
    "        tmp_df = tmp_df.drop('resp_filenames') # 发现有两个文件的列比其他文件多一个\n",
    "        df_http = df_http.union(tmp_df)\n",
    "    \n",
    "print(f'the total records of 6 http files is {sum_r}')\n",
    "print(f'the df_http has {df_http.count()} records')"
   ]
  },
  {
   "cell_type": "code",
   "execution_count": 8,
   "id": "3d5cf3bf-c825-4c9b-acf6-9f2cdf003b04",
   "metadata": {},
   "outputs": [],
   "source": [
    "# 转换ts为timestamp\n",
    "df_dns = df_dns.withColumn('ts', to_timestamp(col('ts')))\n",
    "df_http = df_http.withColumn('ts', to_timestamp(col('ts')))"
   ]
  },
  {
   "cell_type": "code",
   "execution_count": 9,
   "id": "58bb1bc1-d89f-40bb-b912-cc1dff0dcbe5",
   "metadata": {},
   "outputs": [],
   "source": [
    "# 生成临时表\n",
    "df_dns.createOrReplaceTempView(\"dns_log\")\n",
    "df_http.createOrReplaceTempView(\"http_log\")"
   ]
  },
  {
   "cell_type": "markdown",
   "id": "5852b01a-45a6-47e0-82ae-55aae6f131bf",
   "metadata": {},
   "source": [
    "## （2）"
   ]
  },
  {
   "cell_type": "markdown",
   "id": "9ba21dce-2432-4c7a-b0a4-52816335400a",
   "metadata": {},
   "source": [
    "status code is 200 and method is GET, sort in a descending order according to the accessed count of the uri"
   ]
  },
  {
   "cell_type": "markdown",
   "id": "ebe9f186-e0d6-4562-b684-bd493e780baf",
   "metadata": {},
   "source": [
    "### Spark.SQL"
   ]
  },
  {
   "cell_type": "code",
   "execution_count": 10,
   "id": "fc200a7e-0d56-4593-ae14-0a5bb04f9021",
   "metadata": {
    "tags": []
   },
   "outputs": [
    {
     "name": "stderr",
     "output_type": "stream",
     "text": [
      "[Stage 90:================================================>         (5 + 1) / 6]\r"
     ]
    },
    {
     "name": "stdout",
     "output_type": "stream",
     "text": [
      "+--------------------+--------------+\n",
      "|                 uri|accessed_count|\n",
      "+--------------------+--------------+\n",
      "|                   /|          9475|\n",
      "|/admin/config.php...|           556|\n",
      "|  /main.php?logout=1|           194|\n",
      "|/top.php?stuff=15...|           191|\n",
      "|            /top.php|           179|\n",
      "+--------------------+--------------+\n",
      "only showing top 5 rows\n",
      "\n"
     ]
    },
    {
     "name": "stderr",
     "output_type": "stream",
     "text": [
      "                                                                                \r"
     ]
    }
   ],
   "source": [
    "answer_sql = spark.sql(\"\"\"\n",
    "    SELECT uri, COUNT(*) AS accessed_count\n",
    "    FROM http_log\n",
    "    WHERE status_code = 200 AND method = 'GET'\n",
    "    GROUP BY uri\n",
    "    ORDER BY accessed_count DESC\n",
    "        \"\"\")\n",
    "answer_sql.show(5)"
   ]
  },
  {
   "cell_type": "code",
   "execution_count": 11,
   "id": "17edb9d3-af6d-4ee7-ace1-24ac7d0b752e",
   "metadata": {
    "tags": []
   },
   "outputs": [
    {
     "name": "stderr",
     "output_type": "stream",
     "text": [
      "                                                                                \r"
     ]
    },
    {
     "data": {
      "text/plain": [
       "7369"
      ]
     },
     "execution_count": 11,
     "metadata": {},
     "output_type": "execute_result"
    }
   ],
   "source": [
    "answer_sql.count()"
   ]
  },
  {
   "cell_type": "markdown",
   "id": "2f94f0bd-48a9-45dd-8f07-ad519040dc90",
   "metadata": {},
   "source": [
    "### Spark.Dataframe"
   ]
  },
  {
   "cell_type": "code",
   "execution_count": 12,
   "id": "450f1de5-da0f-47ce-9a49-6518f177c7fa",
   "metadata": {},
   "outputs": [
    {
     "name": "stderr",
     "output_type": "stream",
     "text": [
      "                                                                                \r"
     ]
    },
    {
     "name": "stdout",
     "output_type": "stream",
     "text": [
      "+--------------------+-----+\n",
      "|                 uri|count|\n",
      "+--------------------+-----+\n",
      "|                   /| 9475|\n",
      "|/admin/config.php...|  556|\n",
      "|  /main.php?logout=1|  194|\n",
      "|/top.php?stuff=15...|  191|\n",
      "|            /top.php|  179|\n",
      "|/main.php?stuff=1...|  172|\n",
      "|  /get_latest_id.php|  159|\n",
      "|/admin/config.php...|  138|\n",
      "|    /cacti/index.php|  129|\n",
      "|/en-US/api/messag...|  118|\n",
      "+--------------------+-----+\n",
      "only showing top 10 rows\n",
      "\n"
     ]
    },
    {
     "name": "stderr",
     "output_type": "stream",
     "text": [
      "                                                                                \r"
     ]
    },
    {
     "data": {
      "text/plain": [
       "7369"
      ]
     },
     "execution_count": 12,
     "metadata": {},
     "output_type": "execute_result"
    }
   ],
   "source": [
    "answer_df = df_http.filter((col(\"status_code\") == 200) & (col(\"method\") == \"GET\")) \\\n",
    "              .groupBy(\"uri\") \\\n",
    "              .count() \\\n",
    "              .orderBy(\"count\", ascending=False)\n",
    "answer_df.show(10)\n",
    "answer_df.count()"
   ]
  },
  {
   "cell_type": "markdown",
   "id": "fe25625b-5b68-4f04-9595-b73f81f95923",
   "metadata": {},
   "source": [
    "## (3) Use Spark SQL to join the `http_log` and `dns_log` tables by `uid` , and calculate the percentage of `proto=tcp` for each `uri` group found in taks"
   ]
  },
  {
   "cell_type": "code",
   "execution_count": 13,
   "id": "e7d3187d-f4f4-4958-8011-5d076e3bd395",
   "metadata": {},
   "outputs": [
    {
     "name": "stderr",
     "output_type": "stream",
     "text": [
      "                                                                                \r"
     ]
    },
    {
     "data": {
      "text/plain": [
       "476"
      ]
     },
     "execution_count": 13,
     "metadata": {},
     "output_type": "execute_result"
    }
   ],
   "source": [
    "joined_table = spark.sql(\"\"\"\n",
    "        SELECT d.uid as uid, proto, uri\n",
    "        FROM http_log h INNER JOIN dns_log d ON h.uid == d.uid\n",
    "        WHERE status_code = 200 AND method = 'GET'\n",
    "        \"\"\")\n",
    "joined_table.count()"
   ]
  },
  {
   "cell_type": "code",
   "execution_count": 16,
   "id": "5c08c636-42fa-43e4-a40d-93598a3f7ef8",
   "metadata": {
    "tags": []
   },
   "outputs": [],
   "source": [
    "joined_table.createOrReplaceTempView('joined_table')"
   ]
  },
  {
   "cell_type": "code",
   "execution_count": 17,
   "id": "d8ca7cb9-d07a-4425-abd9-edd843ce3b19",
   "metadata": {},
   "outputs": [
    {
     "name": "stderr",
     "output_type": "stream",
     "text": [
      "                                                                                \r"
     ]
    },
    {
     "name": "stdout",
     "output_type": "stream",
     "text": [
      "+--------------------+------------------+\n",
      "|                 uri|    tcp_percentage|\n",
      "+--------------------+------------------+\n",
      "|/lib/exe/indexer....|             100.0|\n",
      "|  /get_latest_id.php|16.666666666666668|\n",
      "|                   /|16.541353383458645|\n",
      "|/_vti_bin/_vti_au...| 11.11111111111111|\n",
      "| /_vti_bin/shtml.exe| 11.11111111111111|\n",
      "+--------------------+------------------+\n",
      "only showing top 5 rows\n",
      "\n"
     ]
    },
    {
     "name": "stderr",
     "output_type": "stream",
     "text": [
      "                                                                                \r"
     ]
    },
    {
     "data": {
      "text/plain": [
       "84"
      ]
     },
     "execution_count": 17,
     "metadata": {},
     "output_type": "execute_result"
    }
   ],
   "source": [
    "result_df = spark.sql(\"\"\"\n",
    "    SELECT uri,\n",
    "           100 * SUM(CASE WHEN proto = 'tcp' THEN 1 ELSE 0 END) / COUNT(*) AS tcp_percentage\n",
    "    FROM joined_table\n",
    "    GROUP BY uri\n",
    "    ORDER BY tcp_percentage DESC\n",
    "\"\"\")\n",
    "result_df.show(5)\n",
    "result_df.count()"
   ]
  },
  {
   "cell_type": "markdown",
   "id": "e3cea2d7-13c8-4f41-a37c-b7f9a8a1a775",
   "metadata": {},
   "source": [
    "### (4) Use Spark dataframe to calculate the percentage of different `method` in the `http log`. Also display the pie chart of different `status code` for each `method` ."
   ]
  },
  {
   "cell_type": "code",
   "execution_count": 16,
   "id": "c1996aaf-1988-4a16-b1bb-b5c88c92c76b",
   "metadata": {},
   "outputs": [
    {
     "name": "stderr",
     "output_type": "stream",
     "text": [
      "[Stage 155:===============================================>         (5 + 1) / 6]\r"
     ]
    },
    {
     "name": "stdout",
     "output_type": "stream",
     "text": [
      "+-----------+------+--------------------+\n",
      "|     method| count|       percentage(%)|\n",
      "+-----------+------+--------------------+\n",
      "|        GET|136678|   73.54368670834992|\n",
      "|       POST| 40184|  21.622203329638516|\n",
      "|       HEAD|  4805|   2.585473994597678|\n",
      "|    OPTIONS|  2388|  1.2849348385222175|\n",
      "|       NULL|  1376|  0.7403979639055993|\n",
      "|    CONNECT|    84| 0.04519871291284181|\n",
      "|     SEARCH|    72|0.038741753925292985|\n",
      "|   PROPFIND|    40| 0.02152319662516277|\n",
      "|RPC_CONNECT|    35|0.018832797047017423|\n",
      "|   GNUTELLA|    34|0.018294717131388354|\n",
      "|        PUT|    23|0.012375838059468592|\n",
      "|      TRACE|    23|0.012375838059468592|\n",
      "|     DELETE|    22|0.011837758143839522|\n",
      "|       some|    17|0.009147358565694177|\n",
      "|     Secure|    17|0.009147358565694177|\n",
      "|     NESSUS|    13|0.006995038903177901|\n",
      "|      TRACK|    13|0.006995038903177901|\n",
      "|   DESCRIBE|     4|0.002152319662516277|\n",
      "|     EAILCX|     1|5.380799156290692E-4|\n",
      "|     NVKHMY|     1|5.380799156290692E-4|\n",
      "|       user|     1|5.380799156290692E-4|\n",
      "|     PCKOIZ|     1|5.380799156290692E-4|\n",
      "|     KTGFFX|     1|5.380799156290692E-4|\n",
      "|     XORXZY|     1|5.380799156290692E-4|\n",
      "|     BXNTPG|     1|5.380799156290692E-4|\n",
      "|     OEDNGQ|     1|5.380799156290692E-4|\n",
      "|     FHGDMH|     1|5.380799156290692E-4|\n",
      "|     YVFUKU|     1|5.380799156290692E-4|\n",
      "|     EQAONR|     1|5.380799156290692E-4|\n",
      "|     WOIGAG|     1|5.380799156290692E-4|\n",
      "|     UIZUPR|     1|5.380799156290692E-4|\n",
      "|     FPANCV|     1|5.380799156290692E-4|\n",
      "|     JZUIPY|     1|5.380799156290692E-4|\n",
      "|     GATMQW|     1|5.380799156290692E-4|\n",
      "|     RDWWEM|     1|5.380799156290692E-4|\n",
      "|     MCPWYV|     1|5.380799156290692E-4|\n",
      "+-----------+------+--------------------+\n",
      "\n"
     ]
    },
    {
     "name": "stderr",
     "output_type": "stream",
     "text": [
      "                                                                                \r"
     ]
    }
   ],
   "source": [
    "method_cnt = df_http.groupBy(\"method\").agg(F.count(\"*\").alias(\"count\")).orderBy('count', ascending=False)\n",
    "method_perc = method_cnt.withColumn('percentage(%)', (col('count')/df_http.count())*100).orderBy('count', ascending=False)\n",
    "method_perc.show(36)"
   ]
  },
  {
   "cell_type": "code",
   "execution_count": 17,
   "id": "bfafc8c9-c8c5-4bdb-80a5-f4cc2a9c5c1a",
   "metadata": {},
   "outputs": [],
   "source": [
    "import matplotlib.pyplot as plt\n",
    "import seaborn as sns"
   ]
  },
  {
   "cell_type": "code",
   "execution_count": 19,
   "id": "b596719b-8957-42f2-b564-c976cfff6ee9",
   "metadata": {
    "tags": []
   },
   "outputs": [
    {
     "name": "stderr",
     "output_type": "stream",
     "text": [
      "[Stage 166:===============================================>         (5 + 1) / 6]\r"
     ]
    },
    {
     "name": "stdout",
     "output_type": "stream",
     "text": [
      "['GET', 'POST', 'HEAD', 'OPTIONS', None, 'CONNECT', 'SEARCH', 'PROPFIND', 'RPC_CONNECT', 'GNUTELLA', 'PUT', 'TRACE', 'DELETE', 'some', 'Secure', 'NESSUS', 'TRACK', 'DESCRIBE', 'EAILCX', 'NVKHMY', 'user', 'PCKOIZ', 'KTGFFX', 'XORXZY', 'BXNTPG', 'OEDNGQ', 'FHGDMH', 'YVFUKU', 'EQAONR', 'WOIGAG', 'UIZUPR', 'FPANCV', 'JZUIPY', 'GATMQW', 'RDWWEM', 'MCPWYV'] [136678, 40184, 4805, 2388, 1376, 84, 72, 40, 35, 34, 23, 23, 22, 17, 17, 13, 13, 4, 1, 1, 1, 1, 1, 1, 1, 1, 1, 1, 1, 1, 1, 1, 1, 1, 1, 1]\n"
     ]
    },
    {
     "name": "stderr",
     "output_type": "stream",
     "text": [
      "                                                                                \r"
     ]
    }
   ],
   "source": [
    "method_list = [row.method for row in method_cnt.select(\"method\").collect()]\n",
    "method_num = [row['count'] for row in method_cnt.select(\"count\").collect()]\n",
    "print(method_list, method_num)"
   ]
  },
  {
   "cell_type": "code",
   "execution_count": 20,
   "id": "5208f6f7-dca9-41c0-b0d4-8a5008018ed5",
   "metadata": {
    "tags": []
   },
   "outputs": [
    {
     "name": "stderr",
     "output_type": "stream",
     "text": [
      "                                                                                \r"
     ]
    },
    {
     "name": "stdout",
     "output_type": "stream",
     "text": [
      "1  method GET saved SUCCESSFULLY\n"
     ]
    },
    {
     "name": "stderr",
     "output_type": "stream",
     "text": [
      "                                                                                \r"
     ]
    },
    {
     "name": "stdout",
     "output_type": "stream",
     "text": [
      "2  method POST saved SUCCESSFULLY\n"
     ]
    },
    {
     "name": "stderr",
     "output_type": "stream",
     "text": [
      "                                                                                \r"
     ]
    },
    {
     "name": "stdout",
     "output_type": "stream",
     "text": [
      "3  method HEAD saved SUCCESSFULLY\n"
     ]
    },
    {
     "name": "stderr",
     "output_type": "stream",
     "text": [
      "                                                                                \r"
     ]
    },
    {
     "name": "stdout",
     "output_type": "stream",
     "text": [
      "4  method OPTIONS saved SUCCESSFULLY\n",
      "5  method None saved SUCCESSFULLY\n"
     ]
    },
    {
     "name": "stderr",
     "output_type": "stream",
     "text": [
      "                                                                                \r"
     ]
    },
    {
     "name": "stdout",
     "output_type": "stream",
     "text": [
      "6  method CONNECT saved SUCCESSFULLY\n"
     ]
    },
    {
     "name": "stderr",
     "output_type": "stream",
     "text": [
      "                                                                                \r"
     ]
    },
    {
     "name": "stdout",
     "output_type": "stream",
     "text": [
      "7  method SEARCH saved SUCCESSFULLY\n"
     ]
    },
    {
     "name": "stderr",
     "output_type": "stream",
     "text": [
      "                                                                                \r"
     ]
    },
    {
     "name": "stdout",
     "output_type": "stream",
     "text": [
      "8  method PROPFIND saved SUCCESSFULLY\n"
     ]
    },
    {
     "name": "stderr",
     "output_type": "stream",
     "text": [
      "                                                                                \r"
     ]
    },
    {
     "name": "stdout",
     "output_type": "stream",
     "text": [
      "9  method RPC_CONNECT saved SUCCESSFULLY\n"
     ]
    },
    {
     "name": "stderr",
     "output_type": "stream",
     "text": [
      "                                                                                \r"
     ]
    },
    {
     "name": "stdout",
     "output_type": "stream",
     "text": [
      "10  method GNUTELLA saved SUCCESSFULLY\n"
     ]
    },
    {
     "name": "stderr",
     "output_type": "stream",
     "text": [
      "                                                                                \r"
     ]
    },
    {
     "name": "stdout",
     "output_type": "stream",
     "text": [
      "11  method PUT saved SUCCESSFULLY\n"
     ]
    },
    {
     "name": "stderr",
     "output_type": "stream",
     "text": [
      "                                                                                \r"
     ]
    },
    {
     "name": "stdout",
     "output_type": "stream",
     "text": [
      "12  method TRACE saved SUCCESSFULLY\n"
     ]
    },
    {
     "name": "stderr",
     "output_type": "stream",
     "text": [
      "                                                                                \r"
     ]
    },
    {
     "name": "stdout",
     "output_type": "stream",
     "text": [
      "13  method DELETE saved SUCCESSFULLY\n"
     ]
    },
    {
     "name": "stderr",
     "output_type": "stream",
     "text": [
      "                                                                                \r"
     ]
    },
    {
     "name": "stdout",
     "output_type": "stream",
     "text": [
      "14  method some saved SUCCESSFULLY\n"
     ]
    },
    {
     "name": "stderr",
     "output_type": "stream",
     "text": [
      "                                                                                \r"
     ]
    },
    {
     "name": "stdout",
     "output_type": "stream",
     "text": [
      "15  method Secure saved SUCCESSFULLY\n"
     ]
    },
    {
     "name": "stderr",
     "output_type": "stream",
     "text": [
      "                                                                                \r"
     ]
    },
    {
     "name": "stdout",
     "output_type": "stream",
     "text": [
      "16  method NESSUS saved SUCCESSFULLY\n"
     ]
    },
    {
     "name": "stderr",
     "output_type": "stream",
     "text": [
      "                                                                                \r"
     ]
    },
    {
     "name": "stdout",
     "output_type": "stream",
     "text": [
      "17  method TRACK saved SUCCESSFULLY\n"
     ]
    },
    {
     "name": "stderr",
     "output_type": "stream",
     "text": [
      "                                                                                \r"
     ]
    },
    {
     "name": "stdout",
     "output_type": "stream",
     "text": [
      "18  method DESCRIBE saved SUCCESSFULLY\n"
     ]
    },
    {
     "name": "stderr",
     "output_type": "stream",
     "text": [
      "                                                                                \r"
     ]
    },
    {
     "name": "stdout",
     "output_type": "stream",
     "text": [
      "19  method EAILCX saved SUCCESSFULLY\n"
     ]
    },
    {
     "name": "stderr",
     "output_type": "stream",
     "text": [
      "/tmp/ipykernel_1898008/3989182784.py:7: RuntimeWarning: More than 20 figures have been opened. Figures created through the pyplot interface (`matplotlib.pyplot.figure`) are retained until explicitly closed and may consume too much memory. (To control this warning, see the rcParam `figure.max_open_warning`). Consider using `matplotlib.pyplot.close()`.\n",
      "  fig, ax = plt.subplots()\n"
     ]
    },
    {
     "name": "stdout",
     "output_type": "stream",
     "text": [
      "20  method NVKHMY saved SUCCESSFULLY\n"
     ]
    },
    {
     "name": "stderr",
     "output_type": "stream",
     "text": [
      "/tmp/ipykernel_1898008/3989182784.py:6: RuntimeWarning: More than 20 figures have been opened. Figures created through the pyplot interface (`matplotlib.pyplot.figure`) are retained until explicitly closed and may consume too much memory. (To control this warning, see the rcParam `figure.max_open_warning`). Consider using `matplotlib.pyplot.close()`.\n",
      "  plt.figure(figsize=(20, 16))\n"
     ]
    },
    {
     "name": "stdout",
     "output_type": "stream",
     "text": [
      "21  method user saved SUCCESSFULLY\n"
     ]
    },
    {
     "name": "stderr",
     "output_type": "stream",
     "text": [
      "                                                                                \r"
     ]
    },
    {
     "name": "stdout",
     "output_type": "stream",
     "text": [
      "22  method PCKOIZ saved SUCCESSFULLY\n"
     ]
    },
    {
     "name": "stderr",
     "output_type": "stream",
     "text": [
      "                                                                                \r"
     ]
    },
    {
     "name": "stdout",
     "output_type": "stream",
     "text": [
      "23  method KTGFFX saved SUCCESSFULLY\n"
     ]
    },
    {
     "name": "stderr",
     "output_type": "stream",
     "text": [
      "                                                                                \r"
     ]
    },
    {
     "name": "stdout",
     "output_type": "stream",
     "text": [
      "24  method XORXZY saved SUCCESSFULLY\n"
     ]
    },
    {
     "name": "stderr",
     "output_type": "stream",
     "text": [
      "                                                                                \r"
     ]
    },
    {
     "name": "stdout",
     "output_type": "stream",
     "text": [
      "25  method BXNTPG saved SUCCESSFULLY\n"
     ]
    },
    {
     "name": "stderr",
     "output_type": "stream",
     "text": [
      "                                                                                \r"
     ]
    },
    {
     "name": "stdout",
     "output_type": "stream",
     "text": [
      "26  method OEDNGQ saved SUCCESSFULLY\n"
     ]
    },
    {
     "name": "stderr",
     "output_type": "stream",
     "text": [
      "                                                                                \r"
     ]
    },
    {
     "name": "stdout",
     "output_type": "stream",
     "text": [
      "27  method FHGDMH saved SUCCESSFULLY\n"
     ]
    },
    {
     "name": "stderr",
     "output_type": "stream",
     "text": [
      "                                                                                \r"
     ]
    },
    {
     "name": "stdout",
     "output_type": "stream",
     "text": [
      "28  method YVFUKU saved SUCCESSFULLY\n"
     ]
    },
    {
     "name": "stderr",
     "output_type": "stream",
     "text": [
      "                                                                                \r"
     ]
    },
    {
     "name": "stdout",
     "output_type": "stream",
     "text": [
      "29  method EQAONR saved SUCCESSFULLY\n"
     ]
    },
    {
     "name": "stderr",
     "output_type": "stream",
     "text": [
      "                                                                                \r"
     ]
    },
    {
     "name": "stdout",
     "output_type": "stream",
     "text": [
      "30  method WOIGAG saved SUCCESSFULLY\n"
     ]
    },
    {
     "name": "stderr",
     "output_type": "stream",
     "text": [
      "                                                                                \r"
     ]
    },
    {
     "name": "stdout",
     "output_type": "stream",
     "text": [
      "31  method UIZUPR saved SUCCESSFULLY\n"
     ]
    },
    {
     "name": "stderr",
     "output_type": "stream",
     "text": [
      "                                                                                \r"
     ]
    },
    {
     "name": "stdout",
     "output_type": "stream",
     "text": [
      "32  method FPANCV saved SUCCESSFULLY\n"
     ]
    },
    {
     "name": "stderr",
     "output_type": "stream",
     "text": [
      "                                                                                \r"
     ]
    },
    {
     "name": "stdout",
     "output_type": "stream",
     "text": [
      "33  method JZUIPY saved SUCCESSFULLY\n"
     ]
    },
    {
     "name": "stderr",
     "output_type": "stream",
     "text": [
      "                                                                                \r"
     ]
    },
    {
     "name": "stdout",
     "output_type": "stream",
     "text": [
      "34  method GATMQW saved SUCCESSFULLY\n"
     ]
    },
    {
     "name": "stderr",
     "output_type": "stream",
     "text": [
      "                                                                                \r"
     ]
    },
    {
     "name": "stdout",
     "output_type": "stream",
     "text": [
      "35  method RDWWEM saved SUCCESSFULLY\n"
     ]
    },
    {
     "name": "stderr",
     "output_type": "stream",
     "text": [
      "                                                                                \r"
     ]
    },
    {
     "name": "stdout",
     "output_type": "stream",
     "text": [
      "36  method MCPWYV saved SUCCESSFULLY\n"
     ]
    },
    {
     "data": {
      "text/plain": [
       "<Figure size 2000x1600 with 0 Axes>"
      ]
     },
     "metadata": {},
     "output_type": "display_data"
    },
    {
     "data": {
      "text/plain": [
       "<Figure size 2000x1600 with 0 Axes>"
      ]
     },
     "metadata": {},
     "output_type": "display_data"
    },
    {
     "data": {
      "text/plain": [
       "<Figure size 2000x1600 with 0 Axes>"
      ]
     },
     "metadata": {},
     "output_type": "display_data"
    },
    {
     "data": {
      "text/plain": [
       "<Figure size 2000x1600 with 0 Axes>"
      ]
     },
     "metadata": {},
     "output_type": "display_data"
    },
    {
     "data": {
      "text/plain": [
       "<Figure size 2000x1600 with 0 Axes>"
      ]
     },
     "metadata": {},
     "output_type": "display_data"
    },
    {
     "data": {
      "text/plain": [
       "<Figure size 2000x1600 with 0 Axes>"
      ]
     },
     "metadata": {},
     "output_type": "display_data"
    },
    {
     "data": {
      "text/plain": [
       "<Figure size 2000x1600 with 0 Axes>"
      ]
     },
     "metadata": {},
     "output_type": "display_data"
    },
    {
     "data": {
      "text/plain": [
       "<Figure size 2000x1600 with 0 Axes>"
      ]
     },
     "metadata": {},
     "output_type": "display_data"
    },
    {
     "data": {
      "text/plain": [
       "<Figure size 2000x1600 with 0 Axes>"
      ]
     },
     "metadata": {},
     "output_type": "display_data"
    },
    {
     "data": {
      "text/plain": [
       "<Figure size 2000x1600 with 0 Axes>"
      ]
     },
     "metadata": {},
     "output_type": "display_data"
    },
    {
     "data": {
      "text/plain": [
       "<Figure size 2000x1600 with 0 Axes>"
      ]
     },
     "metadata": {},
     "output_type": "display_data"
    },
    {
     "data": {
      "text/plain": [
       "<Figure size 2000x1600 with 0 Axes>"
      ]
     },
     "metadata": {},
     "output_type": "display_data"
    },
    {
     "data": {
      "text/plain": [
       "<Figure size 2000x1600 with 0 Axes>"
      ]
     },
     "metadata": {},
     "output_type": "display_data"
    },
    {
     "data": {
      "text/plain": [
       "<Figure size 2000x1600 with 0 Axes>"
      ]
     },
     "metadata": {},
     "output_type": "display_data"
    },
    {
     "data": {
      "text/plain": [
       "<Figure size 2000x1600 with 0 Axes>"
      ]
     },
     "metadata": {},
     "output_type": "display_data"
    },
    {
     "data": {
      "text/plain": [
       "<Figure size 2000x1600 with 0 Axes>"
      ]
     },
     "metadata": {},
     "output_type": "display_data"
    },
    {
     "data": {
      "text/plain": [
       "<Figure size 2000x1600 with 0 Axes>"
      ]
     },
     "metadata": {},
     "output_type": "display_data"
    },
    {
     "data": {
      "text/plain": [
       "<Figure size 2000x1600 with 0 Axes>"
      ]
     },
     "metadata": {},
     "output_type": "display_data"
    },
    {
     "data": {
      "text/plain": [
       "<Figure size 2000x1600 with 0 Axes>"
      ]
     },
     "metadata": {},
     "output_type": "display_data"
    },
    {
     "data": {
      "text/plain": [
       "<Figure size 2000x1600 with 0 Axes>"
      ]
     },
     "metadata": {},
     "output_type": "display_data"
    },
    {
     "data": {
      "text/plain": [
       "<Figure size 2000x1600 with 0 Axes>"
      ]
     },
     "metadata": {},
     "output_type": "display_data"
    },
    {
     "data": {
      "text/plain": [
       "<Figure size 2000x1600 with 0 Axes>"
      ]
     },
     "metadata": {},
     "output_type": "display_data"
    },
    {
     "data": {
      "text/plain": [
       "<Figure size 2000x1600 with 0 Axes>"
      ]
     },
     "metadata": {},
     "output_type": "display_data"
    },
    {
     "data": {
      "text/plain": [
       "<Figure size 2000x1600 with 0 Axes>"
      ]
     },
     "metadata": {},
     "output_type": "display_data"
    },
    {
     "data": {
      "text/plain": [
       "<Figure size 2000x1600 with 0 Axes>"
      ]
     },
     "metadata": {},
     "output_type": "display_data"
    },
    {
     "data": {
      "text/plain": [
       "<Figure size 2000x1600 with 0 Axes>"
      ]
     },
     "metadata": {},
     "output_type": "display_data"
    },
    {
     "data": {
      "text/plain": [
       "<Figure size 2000x1600 with 0 Axes>"
      ]
     },
     "metadata": {},
     "output_type": "display_data"
    },
    {
     "data": {
      "text/plain": [
       "<Figure size 2000x1600 with 0 Axes>"
      ]
     },
     "metadata": {},
     "output_type": "display_data"
    },
    {
     "data": {
      "text/plain": [
       "<Figure size 2000x1600 with 0 Axes>"
      ]
     },
     "metadata": {},
     "output_type": "display_data"
    },
    {
     "data": {
      "text/plain": [
       "<Figure size 2000x1600 with 0 Axes>"
      ]
     },
     "metadata": {},
     "output_type": "display_data"
    },
    {
     "data": {
      "text/plain": [
       "<Figure size 2000x1600 with 0 Axes>"
      ]
     },
     "metadata": {},
     "output_type": "display_data"
    },
    {
     "data": {
      "text/plain": [
       "<Figure size 2000x1600 with 0 Axes>"
      ]
     },
     "metadata": {},
     "output_type": "display_data"
    },
    {
     "data": {
      "text/plain": [
       "<Figure size 2000x1600 with 0 Axes>"
      ]
     },
     "metadata": {},
     "output_type": "display_data"
    },
    {
     "data": {
      "text/plain": [
       "<Figure size 2000x1600 with 0 Axes>"
      ]
     },
     "metadata": {},
     "output_type": "display_data"
    },
    {
     "data": {
      "text/plain": [
       "<Figure size 2000x1600 with 0 Axes>"
      ]
     },
     "metadata": {},
     "output_type": "display_data"
    },
    {
     "data": {
      "text/plain": [
       "<Figure size 2000x1600 with 0 Axes>"
      ]
     },
     "metadata": {},
     "output_type": "display_data"
    }
   ],
   "source": [
    "for index,method in enumerate(method_list):\n",
    "    tmp_df = df_http.select('status_code').where(col('method') == method).groupBy(\"status_code\").agg(F.count(\"*\").alias(\"count\")).toPandas()\n",
    "    tmp_df.fillna('empty code')\n",
    "    tmp_df['percentage'] = (tmp_df['count']/method_num[index])*100\n",
    "    # 绘制饼图 \n",
    "    plt.figure(figsize=(20, 16))\n",
    "    fig, ax = plt.subplots()\n",
    "    wedges = ax.pie(tmp_df['percentage'])\n",
    "    plt.subplots_adjust(left=0, right=0.8, top=0.6, bottom=0)\n",
    "    ax.set_title(f'pie of status code when method = {method}')\n",
    "    ax.axis('equal')\n",
    "\n",
    "    labels_and_percentages = [f'{name}#{perc:.1f}%' for name, perc in zip(tmp_df['status_code'], tmp_df['percentage'])]\n",
    "    legend1 = plt.legend(labels_and_percentages, title=\"status code\", loc=\"upper right\", bbox_to_anchor=(1, 1), fontsize=8)  \n",
    "    ax.add_artist(legend1)\n",
    "    # 保存图片\n",
    "    save_path = f'./Q1_4_figures/{method}.png'\n",
    "    plt.savefig(save_path)\n",
    "    plt.close()\n",
    "    print(f'{index+1}  method {method} saved SUCCESSFULLY')"
   ]
  },
  {
   "cell_type": "code",
   "execution_count": 21,
   "id": "d543c152-4697-4a83-b749-d3f5dc729791",
   "metadata": {
    "tags": []
   },
   "outputs": [
    {
     "name": "stderr",
     "output_type": "stream",
     "text": [
      "[Stage 279:===============================================>         (5 + 1) / 6]\r"
     ]
    },
    {
     "name": "stdout",
     "output_type": "stream",
     "text": [
      "method Null saved SUCCESSFULLY\n"
     ]
    },
    {
     "name": "stderr",
     "output_type": "stream",
     "text": [
      "                                                                                \r"
     ]
    },
    {
     "data": {
      "text/plain": [
       "<Figure size 2000x1600 with 0 Axes>"
      ]
     },
     "metadata": {},
     "output_type": "display_data"
    }
   ],
   "source": [
    "method = 'Null'#特殊情况处理\n",
    "tmp_df = df_http.select('status_code').where(col('method').isNull()).groupBy(\"status_code\").agg(F.count(\"*\").alias(\"count\")).toPandas()\n",
    "tmp_df.fillna('empty code')\n",
    "tmp_df['percentage'] = (tmp_df['count']/method_num[4])*100\n",
    "# 绘制饼图 \n",
    "plt.figure(figsize=(20, 16))\n",
    "fig, ax = plt.subplots()\n",
    "wedges = ax.pie(tmp_df['percentage'])\n",
    "plt.subplots_adjust(left=0, right=0.8, top=0.6, bottom=0)\n",
    "ax.set_title(f'pie of status code when method = {method}')\n",
    "ax.axis('equal')\n",
    "\n",
    "labels_and_percentages = [f'{name}#{perc:.1f}%' for name, perc in zip(tmp_df['status_code'], tmp_df['percentage'])]\n",
    "legend1 = plt.legend(labels_and_percentages, title=\"status code\", loc=\"upper right\", bbox_to_anchor=(1, 1), fontsize=8)  \n",
    "ax.add_artist(legend1)\n",
    "# 保存图片\n",
    "save_path = f'./Q1_4_figures/{method}.png'\n",
    "plt.savefig(save_path)\n",
    "plt.close()\n",
    "print(f'method {method} saved SUCCESSFULLY')"
   ]
  },
  {
   "cell_type": "markdown",
   "id": "981057e4-8d70-4632-b2b7-cfb91933dd9d",
   "metadata": {},
   "source": [
    "## Q2"
   ]
  },
  {
   "cell_type": "markdown",
   "id": "b2b42ad5-06a2-488b-838e-4af9024f95e9",
   "metadata": {},
   "source": [
    "### (1)"
   ]
  },
  {
   "cell_type": "code",
   "execution_count": 4,
   "id": "d011279b-0189-4d02-8ffe-8abe396b6071",
   "metadata": {},
   "outputs": [],
   "source": [
    "import requests\n",
    "from bs4 import BeautifulSoup\n",
    "import json\n",
    "import time\n",
    "import re\n",
    "from time import sleep"
   ]
  },
  {
   "cell_type": "code",
   "execution_count": 5,
   "id": "21bcfa3a-7b06-4f3a-9a9a-ad99adaed828",
   "metadata": {},
   "outputs": [],
   "source": [
    "# Define a request header (to prevent anti-scraping)\n",
    "headers = {\n",
    "    'authority': 'curlconverter.com',\n",
    "    'accept': 'text/html,application/xhtml+xml,application/xml;q=0.9,image/webp,image/apng,*/*;q=0.8,application/signed-exchange;v=b3;q=0.9',\n",
    "    'accept-language': 'zh-CN,zh;q=0.9,en;q=0.8,en-GB;q=0.7,en-US;q=0.6',\n",
    "    'cache-control': 'max-age=0',\n",
    "    'if-modified-since': 'Fri, 15 Jul 2022 21:44:42 GMT',\n",
    "    'if-none-match': 'W/\"62d1dfca-3a58\"',\n",
    "    'referer': 'https://curlconverter.com/',\n",
    "    'sec-ch-ua': '\" Not A;Brand\";v=\"99\", \"Chromium\";v=\"102\", \"Microsoft Edge\";v=\"102\"',\n",
    "    'sec-ch-ua-mobile': '?0',\n",
    "    'sec-ch-ua-platform': '\"Linux\"',\n",
    "    'sec-fetch-dest': 'document',\n",
    "    'sec-fetch-mode': 'navigate',\n",
    "    'sec-fetch-site': 'cross-site',\n",
    "    'sec-fetch-user': '?1',\n",
    "    'upgrade-insecure-requests': '1',\n",
    "    'user-agent': 'Mozilla/5.0 (Windows NT 10.0; Win64; x64) AppleWebKit/537.36 (KHTML, like Gecko) Chrome/122.0.0.0 Safari/537.36',\n",
    "}"
   ]
  },
  {
   "cell_type": "code",
   "execution_count": 24,
   "id": "570d05ee-28ca-483a-bf56-31a729613deb",
   "metadata": {},
   "outputs": [
    {
     "name": "stdout",
     "output_type": "stream",
     "text": [
      "200\n"
     ]
    }
   ],
   "source": [
    "url = \"https://paulgraham.com/articles.html\"\n",
    "response = requests.get(url, headers = headers)\n",
    "print(response.status_code)#查看请求码是否正常"
   ]
  },
  {
   "cell_type": "code",
   "execution_count": 25,
   "id": "5ea4e54c-4052-498b-9ed3-17b1bc91ad0a",
   "metadata": {
    "tags": []
   },
   "outputs": [],
   "source": [
    "page = response.text\n",
    "# 使用正则表达式提取链接中的 URL\n",
    "urls = re.findall(r'<a\\s+href=\"([^\"]+)\"', page)[9:-1]\n",
    "sp_u1 = urls[-4][8::]\n",
    "sp_u2 = urls[-3][8::]\n",
    "urls[-4] = sp_u1\n",
    "urls[-3] = sp_u2\n",
    "urls.remove('sep.turbifycdn.com/ty/cdn/paulgraham/acl1.txt?t=1712593590&')\n",
    "urls.remove('sep.turbifycdn.com/ty/cdn/paulgraham/acl2.txt?t=1712593590&')\n",
    "special_url = ['sep.turbifycdn.com/ty/cdn/paulgraham/acl1.txt?t=1712593590&',\n",
    "               'sep.turbifycdn.com/ty/cdn/paulgraham/acl2.txt?t=1712593590&']#特殊网站特殊处理"
   ]
  },
  {
   "cell_type": "code",
   "execution_count": 26,
   "id": "5a4b2085-f396-4a03-9df9-d97558d206c7",
   "metadata": {
    "collapsed": true,
    "jupyter": {
     "outputs_hidden": true
    },
    "tags": []
   },
   "outputs": [
    {
     "name": "stdout",
     "output_type": "stream",
     "text": [
      "1 file: The Reddits ## url: reddits.html ## path: ./paul_articles/The Reddits.txt saved SUCCESSFULLY\n",
      "2 file: How to Start Google ## url: google.html ## path: ./paul_articles/How to Start Google.txt saved SUCCESSFULLY\n",
      "3 file: The Best Essay ## url: best.html ## path: ./paul_articles/The Best Essay.txt saved SUCCESSFULLY\n",
      "4 file: Superlinear Returns ## url: superlinear.html ## path: ./paul_articles/Superlinear Returns.txt saved SUCCESSFULLY\n",
      "5 file: How to Do Great Work ## url: greatwork.html ## path: ./paul_articles/How to Do Great Work.txt saved SUCCESSFULLY\n",
      "6 file: How to Get New Ideas ## url: getideas.html ## path: ./paul_articles/How to Get New Ideas.txt saved SUCCESSFULLY\n",
      "7 file: The Need to Read ## url: read.html ## path: ./paul_articles/The Need to Read.txt saved SUCCESSFULLY\n",
      "8 file: What You (Want to)* Want ## url: want.html ## path: ./paul_articles/What You (Want to)* Want.txt saved SUCCESSFULLY\n",
      "9 file: Alien Truth ## url: alien.html ## path: ./paul_articles/Alien Truth.txt saved SUCCESSFULLY\n",
      "10 file: What I've Learned from Users ## url: users.html ## path: ./paul_articles/What I've Learned from Users.txt saved SUCCESSFULLY\n",
      "11 file: Heresy ## url: heresy.html ## path: ./paul_articles/Heresy.txt saved SUCCESSFULLY\n",
      "12 file: Putting Ideas into Words ## url: words.html ## path: ./paul_articles/Putting Ideas into Words.txt saved SUCCESSFULLY\n",
      "13 file: Is There Such a Thing as Good Taste? ## url: goodtaste.html ## path: ./paul_articles/Is There Such a Thing as Good Taste?.txt saved SUCCESSFULLY\n",
      "14 file: Beyond Smart ## url: smart.html ## path: ./paul_articles/Beyond Smart.txt saved SUCCESSFULLY\n",
      "15 file: Weird Languages ## url: weird.html ## path: ./paul_articles/Weird Languages.txt saved SUCCESSFULLY\n",
      "16 file: How to Work Hard ## url: hwh.html ## path: ./paul_articles/How to Work Hard.txt saved SUCCESSFULLY\n",
      "17 file: A Project of One's Own ## url: own.html ## path: ./paul_articles/A Project of One's Own.txt saved SUCCESSFULLY\n",
      "18 file: Fierce Nerds ## url: fn.html ## path: ./paul_articles/Fierce Nerds.txt saved SUCCESSFULLY\n",
      "19 file: Crazy New Ideas ## url: newideas.html ## path: ./paul_articles/Crazy New Ideas.txt saved SUCCESSFULLY\n",
      "20 file: An NFT That Saves Lives ## url: nft.html ## path: ./paul_articles/An NFT That Saves Lives.txt saved SUCCESSFULLY\n",
      "21 file: The Real Reason to End the Death Penalty ## url: real.html ## path: ./paul_articles/The Real Reason to End the Death Penalty.txt saved SUCCESSFULLY\n",
      "22 file: How People Get Rich Now ## url: richnow.html ## path: ./paul_articles/How People Get Rich Now.txt saved SUCCESSFULLY\n",
      "23 file: Write Simply ## url: simply.html ## path: ./paul_articles/Write Simply.txt saved SUCCESSFULLY\n",
      "24 file: Donate Unrestricted ## url: donate.html ## path: ./paul_articles/Donate Unrestricted.txt saved SUCCESSFULLY\n",
      "25 file: What I Worked On ## url: worked.html ## path: ./paul_articles/What I Worked On.txt saved SUCCESSFULLY\n",
      "26 file: Earnestness ## url: earnest.html ## path: ./paul_articles/Earnestness.txt saved SUCCESSFULLY\n",
      "27 file: Billionaires Build ## url: ace.html ## path: ./paul_articles/Billionaires Build.txt saved SUCCESSFULLY\n",
      "28 file: The Airbnbs ## url: airbnbs.html ## path: ./paul_articles/The Airbnbs.txt saved SUCCESSFULLY\n",
      "29 file: How to Think for Yourself ## url: think.html ## path: ./paul_articles/How to Think for Yourself.txt saved SUCCESSFULLY\n",
      "30 file: Early Work ## url: early.html ## path: ./paul_articles/Early Work.txt saved SUCCESSFULLY\n",
      "31 file: Modeling a Wealth Tax ## url: wtax.html ## path: ./paul_articles/Modeling a Wealth Tax.txt saved SUCCESSFULLY\n",
      "32 file: The Four Quadrants of Conformism ## url: conformism.html ## path: ./paul_articles/The Four Quadrants of Conformism.txt saved SUCCESSFULLY\n",
      "33 file: Orthodox Privilege ## url: orth.html ## path: ./paul_articles/Orthodox Privilege.txt saved SUCCESSFULLY\n",
      "34 file: Coronavirus and Credibility ## url: cred.html ## path: ./paul_articles/Coronavirus and Credibility.txt saved SUCCESSFULLY\n",
      "35 file: How to Write Usefully ## url: useful.html ## path: ./paul_articles/How to Write Usefully.txt saved SUCCESSFULLY\n",
      "36 file: Being a Noob ## url: noob.html ## path: ./paul_articles/Being a Noob.txt saved SUCCESSFULLY\n",
      "37 file: Haters ## url: fh.html ## path: ./paul_articles/Haters.txt saved SUCCESSFULLY\n",
      "38 file: The Two Kinds of Moderate ## url: mod.html ## path: ./paul_articles/The Two Kinds of Moderate.txt saved SUCCESSFULLY\n",
      "39 file: Fashionable Problems ## url: fp.html ## path: ./paul_articles/Fashionable Problems.txt saved SUCCESSFULLY\n",
      "40 file: Having Kids ## url: kids.html ## path: ./paul_articles/Having Kids.txt saved SUCCESSFULLY\n",
      "41 file: The Lesson to Unlearn ## url: lesson.html ## path: ./paul_articles/The Lesson to Unlearn.txt saved SUCCESSFULLY\n",
      "42 file: Novelty and Heresy ## url: nov.html ## path: ./paul_articles/Novelty and Heresy.txt saved SUCCESSFULLY\n",
      "43 file: The Bus Ticket Theory of Genius ## url: genius.html ## path: ./paul_articles/The Bus Ticket Theory of Genius.txt saved SUCCESSFULLY\n",
      "44 file: General and Surprising ## url: sun.html ## path: ./paul_articles/General and Surprising.txt saved SUCCESSFULLY\n",
      "45 file: Charisma _ Power ## url: pow.html ## path: ./paul_articles/Charisma _ Power.txt saved SUCCESSFULLY\n",
      "46 file: The Risk of Discovery ## url: disc.html ## path: ./paul_articles/The Risk of Discovery.txt saved SUCCESSFULLY\n",
      "47 file: How to Make Pittsburgh a Startup Hub ## url: pgh.html ## path: ./paul_articles/How to Make Pittsburgh a Startup Hub.txt saved SUCCESSFULLY\n",
      "48 file: Life is Short ## url: vb.html ## path: ./paul_articles/Life is Short.txt saved SUCCESSFULLY\n",
      "49 file: Economic Inequality ## url: ineq.html ## path: ./paul_articles/Economic Inequality.txt saved SUCCESSFULLY\n",
      "50 file: The Refragmentation ## url: re.html ## path: ./paul_articles/The Refragmentation.txt saved SUCCESSFULLY\n",
      "51 file: Jessica Livingston ## url: jessica.html ## path: ./paul_articles/Jessica Livingston.txt saved SUCCESSFULLY\n",
      "52 file: A Way to Detect Bias ## url: bias.html ## path: ./paul_articles/A Way to Detect Bias.txt saved SUCCESSFULLY\n",
      "53 file: Write Like You Talk ## url: talk.html ## path: ./paul_articles/Write Like You Talk.txt saved SUCCESSFULLY\n",
      "54 file: Default Alive or Default Dead? ## url: aord.html ## path: ./paul_articles/Default Alive or Default Dead?.txt saved SUCCESSFULLY\n",
      "55 file: Why It's Safe for Founders to Be Nice ## url: safe.html ## path: ./paul_articles/Why It's Safe for Founders to Be Nice.txt saved SUCCESSFULLY\n",
      "56 file: Change Your Name ## url: name.html ## path: ./paul_articles/Change Your Name.txt saved SUCCESSFULLY\n",
      "57 file: What Microsoft Is this the Altair Basic of? ## url: altair.html ## path: ./paul_articles/What Microsoft Is this the Altair Basic of?.txt saved SUCCESSFULLY\n",
      "58 file: The Ronco Principle ## url: ronco.html ## path: ./paul_articles/The Ronco Principle.txt saved SUCCESSFULLY\n",
      "59 file: What Doesn't Seem Like Work? ## url: work.html ## path: ./paul_articles/What Doesn't Seem Like Work?.txt saved SUCCESSFULLY\n",
      "60 file: Don't Talk to Corp Dev ## url: corpdev.html ## path: ./paul_articles/Don't Talk to Corp Dev.txt saved SUCCESSFULLY\n",
      "61 file: Let the Other 95% of Great Programmers In ## url: 95.html ## path: ./paul_articles/Let the Other 95% of Great Programmers In.txt saved SUCCESSFULLY\n",
      "62 file: How to Be an Expert in a Changing World ## url: ecw.html ## path: ./paul_articles/How to Be an Expert in a Changing World.txt saved SUCCESSFULLY\n",
      "63 file: How You Know ## url: know.html ## path: ./paul_articles/How You Know.txt saved SUCCESSFULLY\n",
      "64 file: The Fatal Pinch ## url: pinch.html ## path: ./paul_articles/The Fatal Pinch.txt saved SUCCESSFULLY\n",
      "65 file: Mean People Fail ## url: mean.html ## path: ./paul_articles/Mean People Fail.txt saved SUCCESSFULLY\n",
      "66 file: Before the Startup ## url: before.html ## path: ./paul_articles/Before the Startup.txt saved SUCCESSFULLY\n",
      "67 file: How to Raise Money ## url: fr.html ## path: ./paul_articles/How to Raise Money.txt saved SUCCESSFULLY\n",
      "68 file: Investor Herd Dynamics ## url: herd.html ## path: ./paul_articles/Investor Herd Dynamics.txt saved SUCCESSFULLY\n",
      "69 file: How to Convince Investors ## url: convince.html ## path: ./paul_articles/How to Convince Investors.txt saved SUCCESSFULLY\n",
      "70 file: Do Things that Don't Scale ## url: ds.html ## path: ./paul_articles/Do Things that Don't Scale.txt saved SUCCESSFULLY\n",
      "71 file: Startup Investing Trends ## url: invtrend.html ## path: ./paul_articles/Startup Investing Trends.txt saved SUCCESSFULLY\n",
      "72 file: How to Get Startup Ideas ## url: startupideas.html ## path: ./paul_articles/How to Get Startup Ideas.txt saved SUCCESSFULLY\n",
      "73 file: The Hardware Renaissance ## url: hw.html ## path: ./paul_articles/The Hardware Renaissance.txt saved SUCCESSFULLY\n",
      "74 file: Startup = Growth ## url: growth.html ## path: ./paul_articles/Startup = Growth.txt saved SUCCESSFULLY\n",
      "75 file: Black Swan Farming ## url: swan.html ## path: ./paul_articles/Black Swan Farming.txt saved SUCCESSFULLY\n",
      "76 file: The Top of My Todo List ## url: todo.html ## path: ./paul_articles/The Top of My Todo List.txt saved SUCCESSFULLY\n",
      "77 file: Writing and Speaking ## url: speak.html ## path: ./paul_articles/Writing and Speaking.txt saved SUCCESSFULLY\n",
      "78 file: How Y Combinator Started ## url: ycstart.html ## path: ./paul_articles/How Y Combinator Started.txt saved SUCCESSFULLY\n",
      "79 file: Defining Property ## url: property.html ## path: ./paul_articles/Defining Property.txt saved SUCCESSFULLY\n",
      "80 file: Frighteningly Ambitious Startup Ideas ## url: ambitious.html ## path: ./paul_articles/Frighteningly Ambitious Startup Ideas.txt saved SUCCESSFULLY\n",
      "81 file: A Word to the Resourceful ## url: word.html ## path: ./paul_articles/A Word to the Resourceful.txt saved SUCCESSFULLY\n",
      "82 file: Schlep Blindness ## url: schlep.html ## path: ./paul_articles/Schlep Blindness.txt saved SUCCESSFULLY\n",
      "83 file: Snapshot: Viaweb, June 1998 ## url: vw.html ## path: ./paul_articles/Snapshot: Viaweb, June 1998.txt saved SUCCESSFULLY\n",
      "84 file: Why Startup Hubs Work ## url: hubs.html ## path: ./paul_articles/Why Startup Hubs Work.txt saved SUCCESSFULLY\n",
      "85 file: The Patent Pledge ## url: patentpledge.html ## path: ./paul_articles/The Patent Pledge.txt saved SUCCESSFULLY\n",
      "86 file: Subject: Airbnb ## url: airbnb.html ## path: ./paul_articles/Subject: Airbnb.txt saved SUCCESSFULLY\n",
      "87 file: Founder Control ## url: control.html ## path: ./paul_articles/Founder Control.txt saved SUCCESSFULLY\n",
      "88 file: Tablets ## url: tablets.html ## path: ./paul_articles/Tablets.txt saved SUCCESSFULLY\n",
      "89 file: What We Look for in Founders ## url: founders.html ## path: ./paul_articles/What We Look for in Founders.txt saved SUCCESSFULLY\n",
      "90 file: The New Funding Landscape ## url: superangels.html ## path: ./paul_articles/The New Funding Landscape.txt saved SUCCESSFULLY\n",
      "91 file: Where to See Silicon Valley ## url: seesv.html ## path: ./paul_articles/Where to See Silicon Valley.txt saved SUCCESSFULLY\n",
      "92 file: High Resolution Fundraising  ## url: hiresfund.html ## path: ./paul_articles/High Resolution Fundraising .txt saved SUCCESSFULLY\n",
      "93 file: What Happened to Yahoo  ## url: yahoo.html ## path: ./paul_articles/What Happened to Yahoo .txt saved SUCCESSFULLY\n",
      "94 file: The Future of Startup Funding  ## url: future.html ## path: ./paul_articles/The Future of Startup Funding .txt saved SUCCESSFULLY\n",
      "95 file: The Acceleration of Addictiveness ## url: addiction.html ## path: ./paul_articles/The Acceleration of Addictiveness.txt saved SUCCESSFULLY\n",
      "96 file: The Top Idea in Your Mind  ## url: top.html ## path: ./paul_articles/The Top Idea in Your Mind .txt saved SUCCESSFULLY\n",
      "97 file: How to Lose Time and Money  ## url: selfindulgence.html ## path: ./paul_articles/How to Lose Time and Money .txt saved SUCCESSFULLY\n",
      "98 file: Organic Startup Ideas ## url: organic.html ## path: ./paul_articles/Organic Startup Ideas.txt saved SUCCESSFULLY\n",
      "99 file: Apple's Mistake ## url: apple.html ## path: ./paul_articles/Apple's Mistake.txt saved SUCCESSFULLY\n",
      "100 file: What Startups Are Really Like ## url: really.html ## path: ./paul_articles/What Startups Are Really Like.txt saved SUCCESSFULLY\n",
      "101 file: Persuade xor Discover  ## url: discover.html ## path: ./paul_articles/Persuade xor Discover .txt saved SUCCESSFULLY\n",
      "102 file: Post-Medium Publishing ## url: publishing.html ## path: ./paul_articles/Post-Medium Publishing.txt saved SUCCESSFULLY\n",
      "103 file: The List of N Things ## url: nthings.html ## path: ./paul_articles/The List of N Things.txt saved SUCCESSFULLY\n",
      "104 file: The Anatomy of Determination  ## url: determination.html ## path: ./paul_articles/The Anatomy of Determination .txt saved SUCCESSFULLY\n",
      "105 file: What Kate Saw in Silicon Valley   ## url: kate.html ## path: ./paul_articles/What Kate Saw in Silicon Valley  .txt saved SUCCESSFULLY\n",
      "106 file: The Trouble with the Segway ## url: segway.html ## path: ./paul_articles/The Trouble with the Segway.txt saved SUCCESSFULLY\n",
      "107 file: Ramen Profitable ## url: ramenprofitable.html ## path: ./paul_articles/Ramen Profitable.txt saved SUCCESSFULLY\n",
      "108 file: Maker's Schedule, Manager's Schedule  ## url: makersschedule.html ## path: ./paul_articles/Maker's Schedule, Manager's Schedule .txt saved SUCCESSFULLY\n",
      "109 file: A Local Revolution? ## url: revolution.html ## path: ./paul_articles/A Local Revolution?.txt saved SUCCESSFULLY\n",
      "110 file: Why Twitter is a Big Deal ## url: twitter.html ## path: ./paul_articles/Why Twitter is a Big Deal.txt saved SUCCESSFULLY\n",
      "111 file: The Founder Visa ## url: foundervisa.html ## path: ./paul_articles/The Founder Visa.txt saved SUCCESSFULLY\n",
      "112 file: Five Founders ## url: 5founders.html ## path: ./paul_articles/Five Founders.txt saved SUCCESSFULLY\n",
      "113 file: Relentlessly Resourceful ## url: relres.html ## path: ./paul_articles/Relentlessly Resourceful.txt saved SUCCESSFULLY\n",
      "114 file: How to Be an Angel Investor ## url: angelinvesting.html ## path: ./paul_articles/How to Be an Angel Investor.txt saved SUCCESSFULLY\n",
      "115 file: Why TV Lost ## url: convergence.html ## path: ./paul_articles/Why TV Lost.txt saved SUCCESSFULLY\n",
      "116 file: Can You Buy a Silicon Valley?  Maybe. ## url: maybe.html ## path: ./paul_articles/Can You Buy a Silicon Valley?  Maybe..txt saved SUCCESSFULLY\n",
      "117 file: What I've Learned from Hacker News ## url: hackernews.html ## path: ./paul_articles/What I've Learned from Hacker News.txt saved SUCCESSFULLY\n",
      "118 file: Startups in 13 Sentences ## url: 13sentences.html ## path: ./paul_articles/Startups in 13 Sentences.txt saved SUCCESSFULLY\n",
      "119 file: Keep Your Identity Small   ## url: identity.html ## path: ./paul_articles/Keep Your Identity Small  .txt saved SUCCESSFULLY\n",
      "120 file: After Credentials ## url: credentials.html ## path: ./paul_articles/After Credentials.txt saved SUCCESSFULLY\n",
      "121 file: Could VC be a Casualty of the Recession? ## url: divergence.html ## path: ./paul_articles/Could VC be a Casualty of the Recession?.txt saved SUCCESSFULLY\n",
      "122 file: The High-Res Society ## url: highres.html ## path: ./paul_articles/The High-Res Society.txt saved SUCCESSFULLY\n",
      "123 file: The Other Half of \"Artists Ship\"   ## url: artistsship.html ## path: ./paul_articles/The Other Half of \"Artists Ship\"  .txt saved SUCCESSFULLY\n",
      "124 file: Why to Start a Startup in a Bad Economy ## url: badeconomy.html ## path: ./paul_articles/Why to Start a Startup in a Bad Economy.txt saved SUCCESSFULLY\n",
      "125 file: A Fundraising Survival Guide ## url: fundraising.html ## path: ./paul_articles/A Fundraising Survival Guide.txt saved SUCCESSFULLY\n",
      "126 file: The Pooled-Risk Company Management Company ## url: prcmc.html ## path: ./paul_articles/The Pooled-Risk Company Management Company.txt saved SUCCESSFULLY\n",
      "127 file: Cities and Ambition ## url: cities.html ## path: ./paul_articles/Cities and Ambition.txt saved SUCCESSFULLY\n",
      "128 file: Disconnecting Distraction ## url: distraction.html ## path: ./paul_articles/Disconnecting Distraction.txt saved SUCCESSFULLY\n",
      "129 file: Lies We Tell Kids ## url: lies.html ## path: ./paul_articles/Lies We Tell Kids.txt saved SUCCESSFULLY\n",
      "130 file: Be Good ## url: good.html ## path: ./paul_articles/Be Good.txt saved SUCCESSFULLY\n",
      "131 file: Why There Aren't More Googles ## url: googles.html ## path: ./paul_articles/Why There Aren't More Googles.txt saved SUCCESSFULLY\n",
      "132 file: Some Heroes ## url: heroes.html ## path: ./paul_articles/Some Heroes.txt saved SUCCESSFULLY\n",
      "133 file: How to Disagree ## url: disagree.html ## path: ./paul_articles/How to Disagree.txt saved SUCCESSFULLY\n",
      "134 file: You Weren't Meant to Have a Boss ## url: boss.html ## path: ./paul_articles/You Weren't Meant to Have a Boss.txt saved SUCCESSFULLY\n",
      "135 file: A New Venture Animal ## url: ycombinator.html ## path: ./paul_articles/A New Venture Animal.txt saved SUCCESSFULLY\n",
      "136 file: Trolls ## url: trolls.html ## path: ./paul_articles/Trolls.txt saved SUCCESSFULLY\n",
      "137 file: Six Principles for Making New Things ## url: newthings.html ## path: ./paul_articles/Six Principles for Making New Things.txt saved SUCCESSFULLY\n",
      "138 file: Why to Move to a Startup Hub ## url: startuphubs.html ## path: ./paul_articles/Why to Move to a Startup Hub.txt saved SUCCESSFULLY\n",
      "139 file: The Future of Web Startups ## url: webstartups.html ## path: ./paul_articles/The Future of Web Startups.txt saved SUCCESSFULLY\n",
      "140 file: How to Do Philosophy ## url: philosophy.html ## path: ./paul_articles/How to Do Philosophy.txt saved SUCCESSFULLY\n",
      "141 file: News from the Front ## url: colleges.html ## path: ./paul_articles/News from the Front.txt saved SUCCESSFULLY\n",
      "142 file: How Not to Die ## url: die.html ## path: ./paul_articles/How Not to Die.txt saved SUCCESSFULLY\n",
      "143 file: Holding a Program in One's Head ## url: head.html ## path: ./paul_articles/Holding a Program in One's Head.txt saved SUCCESSFULLY\n",
      "144 file: Stuff ## url: stuff.html ## path: ./paul_articles/Stuff.txt saved SUCCESSFULLY\n",
      "145 file: The Equity Equation ## url: equity.html ## path: ./paul_articles/The Equity Equation.txt saved SUCCESSFULLY\n",
      "146 file: An Alternative Theory of Unions ## url: unions.html ## path: ./paul_articles/An Alternative Theory of Unions.txt saved SUCCESSFULLY\n",
      "147 file: The Hacker's Guide to Investors ## url: guidetoinvestors.html ## path: ./paul_articles/The Hacker's Guide to Investors.txt saved SUCCESSFULLY\n",
      "148 file: Two Kinds of Judgement ## url: judgement.html ## path: ./paul_articles/Two Kinds of Judgement.txt saved SUCCESSFULLY\n",
      "149 file: Microsoft is Dead ## url: microsoft.html ## path: ./paul_articles/Microsoft is Dead.txt saved SUCCESSFULLY\n",
      "150 file: Why to Not Not Start a Startup ## url: notnot.html ## path: ./paul_articles/Why to Not Not Start a Startup.txt saved SUCCESSFULLY\n",
      "151 file: Is It Worth Being Wise? ## url: wisdom.html ## path: ./paul_articles/Is It Worth Being Wise?.txt saved SUCCESSFULLY\n",
      "152 file: Learning from Founders ## url: foundersatwork.html ## path: ./paul_articles/Learning from Founders.txt saved SUCCESSFULLY\n",
      "153 file: How Art Can Be Good ## url: goodart.html ## path: ./paul_articles/How Art Can Be Good.txt saved SUCCESSFULLY\n",
      "154 file: The 18 Mistakes That Kill Startups ## url: startupmistakes.html ## path: ./paul_articles/The 18 Mistakes That Kill Startups.txt saved SUCCESSFULLY\n",
      "155 file: A Student's Guide to Startups ## url: mit.html ## path: ./paul_articles/A Student's Guide to Startups.txt saved SUCCESSFULLY\n",
      "156 file: How to Present to Investors ## url: investors.html ## path: ./paul_articles/How to Present to Investors.txt saved SUCCESSFULLY\n",
      "157 file: Copy What You Like ## url: copy.html ## path: ./paul_articles/Copy What You Like.txt saved SUCCESSFULLY\n",
      "158 file: The Island Test ## url: island.html ## path: ./paul_articles/The Island Test.txt saved SUCCESSFULLY\n",
      "159 file: The Power of the Marginal ## url: marginal.html ## path: ./paul_articles/The Power of the Marginal.txt saved SUCCESSFULLY\n",
      "160 file: Why Startups Condense in America ## url: america.html ## path: ./paul_articles/Why Startups Condense in America.txt saved SUCCESSFULLY\n",
      "161 file: How to Be Silicon Valley ## url: siliconvalley.html ## path: ./paul_articles/How to Be Silicon Valley.txt saved SUCCESSFULLY\n",
      "162 file: The Hardest Lessons for Startups to Learn ## url: startuplessons.html ## path: ./paul_articles/The Hardest Lessons for Startups to Learn.txt saved SUCCESSFULLY\n",
      "163 file: See Randomness ## url: randomness.html ## path: ./paul_articles/See Randomness.txt saved SUCCESSFULLY\n",
      "164 file: Are Software Patents Evil? ## url: softwarepatents.html ## path: ./paul_articles/Are Software Patents Evil?.txt saved SUCCESSFULLY\n",
      "165 file: 6,631,372 ## url: 6631327.html ## path: ./paul_articles/6,631,372.txt saved SUCCESSFULLY\n",
      "166 file: Why YC ## url: whyyc.html ## path: ./paul_articles/Why YC.txt saved SUCCESSFULLY\n",
      "167 file: How to Do What You Love ## url: love.html ## path: ./paul_articles/How to Do What You Love.txt saved SUCCESSFULLY\n",
      "168 file: Good and Bad Procrastination ## url: procrastination.html ## path: ./paul_articles/Good and Bad Procrastination.txt saved SUCCESSFULLY\n",
      "169 file: Web 2.0 ## url: web20.html ## path: ./paul_articles/Web 2.0.txt saved SUCCESSFULLY\n",
      "170 file: How to Fund a Startup ## url: startupfunding.html ## path: ./paul_articles/How to Fund a Startup.txt saved SUCCESSFULLY\n",
      "171 file: The Venture Capital Squeeze ## url: vcsqueeze.html ## path: ./paul_articles/The Venture Capital Squeeze.txt saved SUCCESSFULLY\n",
      "172 file: Ideas for Startups ## url: ideas.html ## path: ./paul_articles/Ideas for Startups.txt saved SUCCESSFULLY\n",
      "173 file: What I Did this Summer ## url: sfp.html ## path: ./paul_articles/What I Did this Summer.txt saved SUCCESSFULLY\n",
      "174 file: Inequality and Risk ## url: inequality.html ## path: ./paul_articles/Inequality and Risk.txt saved SUCCESSFULLY\n",
      "175 file: After the Ladder ## url: ladder.html ## path: ./paul_articles/After the Ladder.txt saved SUCCESSFULLY\n",
      "176 file: What Business Can Learn from Open Source ## url: opensource.html ## path: ./paul_articles/What Business Can Learn from Open Source.txt saved SUCCESSFULLY\n",
      "177 file: Hiring is Obsolete ## url: hiring.html ## path: ./paul_articles/Hiring is Obsolete.txt saved SUCCESSFULLY\n",
      "178 file: The Submarine ## url: submarine.html ## path: ./paul_articles/The Submarine.txt saved SUCCESSFULLY\n",
      "179 file: Why Smart People Have Bad Ideas ## url: bronze.html ## path: ./paul_articles/Why Smart People Have Bad Ideas.txt saved SUCCESSFULLY\n",
      "180 file: Return of the Mac ## url: mac.html ## path: ./paul_articles/Return of the Mac.txt saved SUCCESSFULLY\n",
      "181 file: Writing,  Briefly ## url: writing44.html ## path: ./paul_articles/Writing,  Briefly.txt saved SUCCESSFULLY\n",
      "182 file: Undergraduation ## url: college.html ## path: ./paul_articles/Undergraduation.txt saved SUCCESSFULLY\n",
      "183 file: A Unified Theory of VC Suckage ## url: venturecapital.html ## path: ./paul_articles/A Unified Theory of VC Suckage.txt saved SUCCESSFULLY\n",
      "184 file: How to Start a Startup ## url: start.html ## path: ./paul_articles/How to Start a Startup.txt saved SUCCESSFULLY\n",
      "185 file: What You'll Wish You'd Known ## url: hs.html ## path: ./paul_articles/What You'll Wish You'd Known.txt saved SUCCESSFULLY\n",
      "186 file: Made in USA ## url: usa.html ## path: ./paul_articles/Made in USA.txt saved SUCCESSFULLY\n",
      "187 file: It's Charisma, Stupid ## url: charisma.html ## path: ./paul_articles/It's Charisma, Stupid.txt saved SUCCESSFULLY\n",
      "188 file: Bradley's Ghost ## url: polls.html ## path: ./paul_articles/Bradley's Ghost.txt saved SUCCESSFULLY\n",
      "189 file: A Version 1.0 ## url: laundry.html ## path: ./paul_articles/A Version 1.0.txt saved SUCCESSFULLY\n",
      "190 file: What the Bubble Got Right ## url: bubble.html ## path: ./paul_articles/What the Bubble Got Right.txt saved SUCCESSFULLY\n",
      "191 file: The Age of the Essay ## url: essay.html ## path: ./paul_articles/The Age of the Essay.txt saved SUCCESSFULLY\n",
      "192 file: The Python Paradox ## url: pypar.html ## path: ./paul_articles/The Python Paradox.txt saved SUCCESSFULLY\n",
      "193 file: Great Hackers ## url: gh.html ## path: ./paul_articles/Great Hackers.txt saved SUCCESSFULLY\n",
      "194 file: Mind the Gap ## url: gap.html ## path: ./paul_articles/Mind the Gap.txt saved SUCCESSFULLY\n",
      "195 file: How to Make Wealth ## url: wealth.html ## path: ./paul_articles/How to Make Wealth.txt saved SUCCESSFULLY\n",
      "196 file: The Word \"Hacker\" ## url: gba.html ## path: ./paul_articles/The Word \"Hacker\".txt saved SUCCESSFULLY\n",
      "197 file: What You Can't Say ## url: say.html ## path: ./paul_articles/What You Can't Say.txt saved SUCCESSFULLY\n",
      "198 file: Filters that Fight Back ## url: ffb.html ## path: ./paul_articles/Filters that Fight Back.txt saved SUCCESSFULLY\n",
      "199 file: Hackers and Painters ## url: hp.html ## path: ./paul_articles/Hackers and Painters.txt saved SUCCESSFULLY\n",
      "200 file: If Lisp is So Great ## url: iflisp.html ## path: ./paul_articles/If Lisp is So Great.txt saved SUCCESSFULLY\n",
      "201 file: The Hundred-Year Language ## url: hundred.html ## path: ./paul_articles/The Hundred-Year Language.txt saved SUCCESSFULLY\n",
      "202 file: Why Nerds are Unpopular ## url: nerds.html ## path: ./paul_articles/Why Nerds are Unpopular.txt saved SUCCESSFULLY\n",
      "203 file: Better Bayesian Filtering ## url: better.html ## path: ./paul_articles/Better Bayesian Filtering.txt saved SUCCESSFULLY\n",
      "204 file: Design and Research ## url: desres.html ## path: ./paul_articles/Design and Research.txt saved SUCCESSFULLY\n",
      "205 file: A Plan for Spam ## url: spam.html ## path: ./paul_articles/A Plan for Spam.txt saved SUCCESSFULLY\n",
      "206 file: Revenge of the Nerds ## url: icad.html ## path: ./paul_articles/Revenge of the Nerds.txt saved SUCCESSFULLY\n",
      "207 file: Succinctness is Power ## url: power.html ## path: ./paul_articles/Succinctness is Power.txt saved SUCCESSFULLY\n",
      "208 file: What Languages Fix ## url: fix.html ## path: ./paul_articles/What Languages Fix.txt saved SUCCESSFULLY\n",
      "209 file: Taste for Makers ## url: taste.html ## path: ./paul_articles/Taste for Makers.txt saved SUCCESSFULLY\n",
      "210 file: Why Arc Isn't Especially Object-Oriented ## url: noop.html ## path: ./paul_articles/Why Arc Isn't Especially Object-Oriented.txt saved SUCCESSFULLY\n",
      "211 file: What Made Lisp Different ## url: diff.html ## path: ./paul_articles/What Made Lisp Different.txt saved SUCCESSFULLY\n",
      "212 file: The Other Road Ahead ## url: road.html ## path: ./paul_articles/The Other Road Ahead.txt saved SUCCESSFULLY\n",
      "213 file: The Roots of Lisp ## url: rootsoflisp.html ## path: ./paul_articles/The Roots of Lisp.txt saved SUCCESSFULLY\n",
      "214 file: Five Questions about Language Design ## url: langdes.html ## path: ./paul_articles/Five Questions about Language Design.txt saved SUCCESSFULLY\n",
      "215 file: Being Popular ## url: popular.html ## path: ./paul_articles/Being Popular.txt saved SUCCESSFULLY\n",
      "216 file: Java's Cover ## url: javacover.html ## path: ./paul_articles/Java's Cover.txt saved SUCCESSFULLY\n",
      "217 file: Beating the Averages ## url: avg.html ## path: ./paul_articles/Beating the Averages.txt saved SUCCESSFULLY\n",
      "218 file: Lisp for Web-Based Applications ## url: lwba.html ## path: ./paul_articles/Lisp for Web-Based Applications.txt saved SUCCESSFULLY\n",
      "219 file: Programming Bottom-Up ## url: progbot.html ## path: ./paul_articles/Programming Bottom-Up.txt saved SUCCESSFULLY\n",
      "220 file: This Year We Can End the Death Penalty in California ## url: prop62.html ## path: ./paul_articles/This Year We Can End the Death Penalty in California.txt saved SUCCESSFULLY\n"
     ]
    }
   ],
   "source": [
    "directory = \"./paul_articles/\"\n",
    "i = 1\n",
    "\n",
    "for url in urls:\n",
    "    visit = f'https://paulgraham.com/{url}'\n",
    "    response = requests.get(visit, headers = headers)\n",
    "    page = response.text\n",
    "    soup = BeautifulSoup(page, \"html.parser\")\n",
    "    \n",
    "    title = re.findall(r'<title>(.*?)</title>', page)[0].replace('/', '_')#将title中的/替换为_，避免对路径产生干扰\n",
    "\n",
    "    # 找到包含正文的<font>标签  \n",
    "    font_tag = soup.find('font', {'size': '2', 'face': 'verdana'})#抓取正文部分\n",
    "\n",
    "    font_tag_prettify = font_tag.prettify()#将网页转为string处理\n",
    "\n",
    "    context = font_tag_prettify.replace('\\n', ' ').replace('<br/>', '\\n').replace('<p>', '\\n')#先去除多余的换行，再将分段码转为换行\n",
    "    cleaned_text = re.sub(r'<[^>]*>', ' ', context)#去除html符号\n",
    "    cleaned_text = re.sub(r'^\\s*$\\n', ' ', cleaned_text, flags=re.MULTILINE)#去除多余空白行\n",
    "    # cleaned_text = re.sub(r'\\[\\s+(\\d+)\\s*\\]', r'[\\1]', cleaned_text)\n",
    "    cleaned_text = re.sub(r' +', ' ', cleaned_text)#去除段落中多余的空格\n",
    "\n",
    "    paragraphs = cleaned_text.strip().split(\"\\n\")\n",
    "\n",
    "    # 遍历段落列表，去除每个段落前后的空格\n",
    "    cleaned_paragraphs = [paragraph.strip() for paragraph in paragraphs]\n",
    "\n",
    "    # 使用join()方法将清理后的段落重新组合成文本\n",
    "    article = \"\\n\\n\".join(cleaned_paragraphs)\n",
    "\n",
    "    # 接下来，你可以像之前那样写文件  \n",
    "    file_path = os.path.join(directory, f\"{title}.txt\")  \n",
    "    with open(file_path, 'w', encoding='utf-8') as file:\n",
    "        file.write(title+'\\n')\n",
    "        file.write(article)\n",
    "    print(f'{i} file: {title} ## url: {url} ## path: {file_path} saved SUCCESSFULLY')\n",
    "    i = i+1"
   ]
  },
  {
   "cell_type": "code",
   "execution_count": 27,
   "id": "6d74a82d-768e-4ae9-b535-4979d7124e8b",
   "metadata": {
    "tags": []
   },
   "outputs": [],
   "source": [
    "directory = \"./paul_articles/\""
   ]
  },
  {
   "cell_type": "code",
   "execution_count": 28,
   "id": "b28a554b-9869-4e45-ab98-518bb1608fb9",
   "metadata": {
    "tags": []
   },
   "outputs": [
    {
     "name": "stdout",
     "output_type": "stream",
     "text": [
      "221 file: Chapter 1 of Ansi Common Lisp ## url: sep.turbifycdn.com/ty/cdn/paulgraham/acl1.txt?t=1712593590& ## path: ./paul_articles/Chapter 1 of Ansi Common Lisp.txt saved SUCCESSFULLY\n",
      "222 file: Chapter 2 of Ansi Common Lisp ## url: sep.turbifycdn.com/ty/cdn/paulgraham/acl2.txt?t=1712593590& ## path: ./paul_articles/Chapter 2 of Ansi Common Lisp.txt saved SUCCESSFULLY\n"
     ]
    }
   ],
   "source": [
    "for index,url in enumerate(special_url):# 处理两个特殊文件\n",
    "    visit = f'https://{url}'\n",
    "    response = requests.get(visit, headers = headers)\n",
    "    page = response.text\n",
    "    title = f'Chapter {index+1} of Ansi Common Lisp'\n",
    "    article = re.sub(r'\\n(?!\\s)', ' ', page)\n",
    "    file_path = os.path.join(directory, f\"{title}.txt\")  \n",
    "    with open(file_path, 'w', encoding='utf-8') as file:\n",
    "        file.write(title+'\\n')\n",
    "        file.write(article)\n",
    "    print(f'{i} file: {title} ## url: {url} ## path: {file_path} saved SUCCESSFULLY')\n",
    "    i += 1"
   ]
  },
  {
   "cell_type": "markdown",
   "id": "950d4bec-22f1-4e93-85c2-47ec2e3e29d1",
   "metadata": {},
   "source": [
    "### (2) Create a dataframe by reading from these `txt` files with pyspark. Each row only contains the sentences in one paragraph. Select paragraphs that are related to suggestions of `career planning`. You can read some examples to determine some key phrases or regrex expressions for filtering. Store all the filtered paragraphs in a `parquet file career_suggestions.parquet` . (This is an open task that `different answers are allowed`.)"
   ]
  },
  {
   "cell_type": "code",
   "execution_count": 30,
   "id": "de1eed34-00f6-494c-928c-df8f590610c7",
   "metadata": {
    "tags": []
   },
   "outputs": [],
   "source": [
    "schema_ph = StructType([  \n",
    "    StructField(\"title\", StringType(), False),\n",
    "    StructField(\"paragraph\", StringType(), False)  # 该字段不可以为null  \n",
    "])\n",
    "df_paragraph = spark.createDataFrame(empty_rdd, schema_ph) # 生成一个空表，用于拼接"
   ]
  },
  {
   "cell_type": "code",
   "execution_count": 10,
   "id": "599400da-9837-49c6-99fe-639938875001",
   "metadata": {
    "tags": []
   },
   "outputs": [
    {
     "name": "stderr",
     "output_type": "stream",
     "text": [
      "                                                                                \r"
     ]
    },
    {
     "ename": "NameError",
     "evalue": "name 'df_paragraph' is not defined",
     "output_type": "error",
     "traceback": [
      "\u001b[0;31m---------------------------------------------------------------------------\u001b[0m",
      "\u001b[0;31mNameError\u001b[0m                                 Traceback (most recent call last)",
      "Cell \u001b[0;32mIn[10], line 37\u001b[0m\n\u001b[1;32m     35\u001b[0m tmp_df \u001b[38;5;241m=\u001b[39m rdd\u001b[38;5;241m.\u001b[39mtoDF([\u001b[38;5;124m\"\u001b[39m\u001b[38;5;124mtitle\u001b[39m\u001b[38;5;124m\"\u001b[39m, \u001b[38;5;124m\"\u001b[39m\u001b[38;5;124mparagraph\u001b[39m\u001b[38;5;124m\"\u001b[39m])\n\u001b[1;32m     36\u001b[0m cnt \u001b[38;5;241m+\u001b[39m\u001b[38;5;241m=\u001b[39m tmp_df\u001b[38;5;241m.\u001b[39mcount()\n\u001b[0;32m---> 37\u001b[0m df_paragraph \u001b[38;5;241m=\u001b[39m df_paragraph\u001b[38;5;241m.\u001b[39munion(tmp_df)\n\u001b[1;32m     39\u001b[0m \u001b[38;5;28mprint\u001b[39m(\u001b[38;5;124mf\u001b[39m\u001b[38;5;124m'\u001b[39m\u001b[38;5;132;01m{\u001b[39;00mi\u001b[38;5;132;01m}\u001b[39;00m\u001b[38;5;124m \u001b[39m\u001b[38;5;132;01m{\u001b[39;00mtitle\u001b[38;5;132;01m}\u001b[39;00m\u001b[38;5;124m Union SUCCESSFULLY \u001b[39m\u001b[38;5;130;01m\\n\u001b[39;00m\u001b[38;5;124m \u001b[39m\u001b[38;5;132;01m{\u001b[39;00mtitle\u001b[38;5;132;01m}\u001b[39;00m\u001b[38;5;124m has \u001b[39m\u001b[38;5;132;01m{\u001b[39;00m\u001b[38;5;28mlen\u001b[39m(paragraphs)\u001b[38;5;132;01m}\u001b[39;00m\u001b[38;5;124m paragraphs, tmp_df has \u001b[39m\u001b[38;5;132;01m{\u001b[39;00mtmp_df\u001b[38;5;241m.\u001b[39mcount()\u001b[38;5;132;01m}\u001b[39;00m\u001b[38;5;124m records\u001b[39m\u001b[38;5;124m'\u001b[39m)\n\u001b[1;32m     40\u001b[0m i \u001b[38;5;241m+\u001b[39m\u001b[38;5;241m=\u001b[39m \u001b[38;5;241m1\u001b[39m\n",
      "\u001b[0;31mNameError\u001b[0m: name 'df_paragraph' is not defined"
     ]
    }
   ],
   "source": [
    "files = os.listdir('./paul_articles/')\n",
    "files.remove('Chapter 1 of Ansi Common Lisp.txt')\n",
    "files.remove('Chapter 2 of Ansi Common Lisp.txt')\n",
    "\n",
    "months = r'(January|February|March|April|May|June|July|August|September|October|November|December)'\n",
    "year = r'\\d{4}'\n",
    "date_pattern = r'{} {}'.format(months, year)\n",
    "if '.ipynb_checkpoints' in files:\n",
    "    files.remove('.ipynb_checkpoints')\n",
    "files.sort()\n",
    "pattern = r'^[ \\n]*$' # 只包含空格和换行\n",
    "i = 1\n",
    "cnt = 0\n",
    "rabbish_lines = ['Want to start a startup? Get funded by Y Combinator .', 'Like to build things? Try Hacker News .']# 出现多次，似乎是广告信息\n",
    "for file in files:\n",
    "    path = f'./paul_articles/{file}'\n",
    "    title = ''\n",
    "    paragraphs = []\n",
    "    \n",
    "    with open(path, 'r', encoding='utf-8') as file:\n",
    "        title = file.readline().strip()\n",
    "        date = file.readline()\n",
    "        if re.match(date_pattern, date) or (date.strip() in rabbish_lines):#判断是否为日期或垃圾信息，是则跳过\n",
    "            ph = file.readline()\n",
    "        else:\n",
    "            ph = date\n",
    "\n",
    "        while ph != '':\n",
    "            if not re.match(pattern, ph): #判断为非空行\n",
    "                paragraphs.append(ph.strip())\n",
    "            ph = file.readline()\n",
    "            \n",
    "    titles = [title]*len(paragraphs)\n",
    "    rdd = spark.sparkContext.parallelize(zip(titles, paragraphs))  \n",
    "    tmp_df = rdd.toDF([\"title\", \"paragraph\"])\n",
    "    cnt += tmp_df.count()\n",
    "    df_paragraph = df_paragraph.union(tmp_df)\n",
    "    \n",
    "    print(f'{i} {title} Union SUCCESSFULLY \\n {title} has {len(paragraphs)} paragraphs, tmp_df has {tmp_df.count()} records')\n",
    "    i += 1"
   ]
  },
  {
   "cell_type": "code",
   "execution_count": 32,
   "id": "2eb35944-b447-49cf-a25d-7339d02dbab1",
   "metadata": {
    "tags": []
   },
   "outputs": [
    {
     "name": "stderr",
     "output_type": "stream",
     "text": [
      "24/04/16 08:59:55 WARN DAGScheduler: Broadcasting large task binary with size 1633.1 KiB\n",
      "[Stage 2142:==============================================>(28069 + 91) / 28160]\r"
     ]
    },
    {
     "name": "stdout",
     "output_type": "stream",
     "text": [
      "9676 9676\n"
     ]
    },
    {
     "name": "stderr",
     "output_type": "stream",
     "text": [
      "                                                                                \r"
     ]
    }
   ],
   "source": [
    "print(df_paragraph.count(), cnt)"
   ]
  },
  {
   "cell_type": "code",
   "execution_count": 20,
   "id": "f4c1f16e-075f-4a6c-8c20-25ed670d478e",
   "metadata": {
    "tags": []
   },
   "outputs": [],
   "source": [
    "# related words and phrases\n",
    "keywords=[  \n",
    "    \"career development\", \"goal setting\", \"skill development\", \"career path\", \"professional growth\", \"personal development\",  \n",
    "    \"career advancement\", \"education and training\", \"job search strategies\", \"networking\", \"mentorship\", \"resume building\",  \n",
    "    \"interview preparation\", \"work-life balance\", \"career satisfaction\", \"long-term career goals\", \"career transition\",  \n",
    "    \"continuing education\", \"self-assessment\", \"career exploration\", \"career planning\", \"career\", \"careers\", \"job\",\n",
    "    \"jobs\", \"profession\", \"professions\", \"advancement\", \"Advancement\", \"Career\", \"Careers\", \"Job\", \"Jobs\",\n",
    "    \"Profession\", \"Professions\"\n",
    "]"
   ]
  },
  {
   "cell_type": "code",
   "execution_count": 21,
   "id": "ff7058d8-8d1a-45d8-9b78-335b25142a9e",
   "metadata": {
    "tags": []
   },
   "outputs": [],
   "source": [
    "filter_pattern = r\"\\b(\" + \"|\".join(keywords) + r\")\\b\""
   ]
  },
  {
   "cell_type": "code",
   "execution_count": 37,
   "id": "1f583e9d-4331-461e-ac68-3261e2f31821",
   "metadata": {
    "tags": []
   },
   "outputs": [],
   "source": [
    "filtered_df = df_paragraph.filter(\n",
    "    col('paragraph').rlike(filter_pattern)\n",
    ")"
   ]
  },
  {
   "cell_type": "code",
   "execution_count": 38,
   "id": "d4c8b228-1d30-4183-ab2b-099365b7aafa",
   "metadata": {},
   "outputs": [
    {
     "name": "stderr",
     "output_type": "stream",
     "text": [
      "24/04/16 09:55:23 WARN DAGScheduler: Broadcasting large task binary with size 2.0 MiB\n",
      "24/04/16 09:55:23 WARN DAGScheduler: Broadcasting large task binary with size 2.0 MiB\n",
      "24/04/16 09:55:23 WARN DAGScheduler: Broadcasting large task binary with size 2.0 MiB\n",
      "24/04/16 09:55:23 WARN DAGScheduler: Broadcasting large task binary with size 2.0 MiB\n",
      "24/04/16 09:55:24 WARN DAGScheduler: Broadcasting large task binary with size 2.0 MiB\n",
      "24/04/16 09:55:29 WARN DAGScheduler: Broadcasting large task binary with size 2.0 MiB\n",
      "24/04/16 09:55:53 WARN DAGScheduler: Broadcasting large task binary with size 2.0 MiB\n",
      "24/04/16 09:58:16 WARN DAGScheduler: Broadcasting large task binary with size 2.0 MiB\n",
      "                                                                                \r"
     ]
    },
    {
     "name": "stdout",
     "output_type": "stream",
     "text": [
      "+--------------------+--------------------+\n",
      "|               title|           paragraph|\n",
      "+--------------------+--------------------+\n",
      "|             Be Good|It's one of the s...|\n",
      "|Do Things that Do...|Another consultin...|\n",
      "|Frighteningly Amb...|Some of the atten...|\n",
      "|The Hardest Lesso...|I was talking rec...|\n",
      "+--------------------+--------------------+\n",
      "\n"
     ]
    },
    {
     "name": "stderr",
     "output_type": "stream",
     "text": [
      "24/04/16 10:01:46 WARN DAGScheduler: Broadcasting large task binary with size 1898.5 KiB\n",
      "                                                                                \r"
     ]
    },
    {
     "data": {
      "text/plain": [
       "4"
      ]
     },
     "execution_count": 38,
     "metadata": {},
     "output_type": "execute_result"
    }
   ],
   "source": [
    "filtered_df.show()\n",
    "filtered_df.count()"
   ]
  },
  {
   "cell_type": "code",
   "execution_count": null,
   "id": "5fadc54f-8f02-4b98-b004-bc650e01c14f",
   "metadata": {},
   "outputs": [],
   "source": [
    "parquet_directory = \"./career_suggestions.parquet\""
   ]
  },
  {
   "cell_type": "code",
   "execution_count": null,
   "id": "f00fac1b-ae70-4b7a-8c92-b9164ddaab6b",
   "metadata": {},
   "outputs": [],
   "source": []
  },
  {
   "cell_type": "markdown",
   "id": "78f0b56a-840b-4b78-bb64-fc3b25e0534e",
   "metadata": {},
   "source": [
    "### (3) Extract noun phrases of all articles with Spark user-defined-functions and count their frequencies. You can use the Spacy Package. Plot the word cloud map with wordcloud package for the noun phrases which have the top 40~50 highest frequencies (including both end)."
   ]
  },
  {
   "cell_type": "code",
   "execution_count": 16,
   "id": "e6879ad0-5bc9-4936-8c46-921f1d1659d3",
   "metadata": {},
   "outputs": [],
   "source": [
    "import spacy  \n",
    "from spacy.matcher import Matcher  \n",
    "from collections import Counter  \n",
    "from wordcloud import WordCloud  \n",
    "import matplotlib.pyplot as plt "
   ]
  },
  {
   "cell_type": "code",
   "execution_count": 21,
   "id": "c8814f36-c40c-43fe-b3d5-01f6c47a5553",
   "metadata": {},
   "outputs": [],
   "source": [
    "# 加载Spacy英文模型  \n",
    "nlp = spacy.load(\"en_core_web_sm\", disable=['parser', 'ner'])  \n",
    "  \n",
    "# 创建一个Matcher对象  \n",
    "matcher = Matcher(nlp.vocab)  \n",
    "  \n",
    "# 定义名词性短语的规则，这里我们使用名词短语的结构，例如名词短语可能是一个名词后跟一个或多个形容词或名词  \n",
    "# 注意：这个规则很基础，可能无法捕获所有名词短语，你可以根据需要添加更多复杂的规则  \n",
    "pattern = [{'POS': 'NOUN'}, {'POS': {'IN': ['ADJ', 'NOUN']}, 'OP': '*'}]  \n",
    "matcher.add('NOUN_PHRASES', [pattern], on_match=None)"
   ]
  },
  {
   "cell_type": "code",
   "execution_count": 23,
   "id": "9b941c64-5a60-49fc-b72b-19611fc13850",
   "metadata": {},
   "outputs": [],
   "source": [
    "# 输入的文本\n",
    "files = os.pardir('./paul_articles/')\n",
    "if '.ipynb_checkpoints' in files:\n",
    "    files.remove('.ipynb_checkpoints')\n",
    "\n",
    "empty_pattern = r'^[ \\n]*$' # 只包含空格和换行\n",
    "rabbish_lines = ['Want to start a startup? Get funded by Y Combinator .', 'Like to build things? Try Hacker News .']# 出现多次，似乎是广告信息\n",
    "for file in files:\n",
    "    text = \"\"\n",
    "    with open(path, 'r', encoding='utf-8') as file:\n",
    "        title = file.readline().strip()\n",
    "        date = file.readline()\n",
    "        if re.match(date_pattern, date) or (date.strip() in rabbish_lines):#判断是否为日期或垃圾信息，是则跳过\n",
    "            ph = file.readline()\n",
    "        else:\n",
    "            ph = date\n",
    "\n",
    "        while ph != '':\n",
    "            if not re.match(empty_pattern, ph): #判断为非空行\n",
    "                text += ph\n",
    "            ph = file.readline()\n",
    "\n",
    "    # 处理文本  \n",
    "    doc = nlp(text)  \n",
    "    matches = matcher(doc)  \n",
    "\n",
    "    # 提取名词短语并计数  \n",
    "    noun_phrases = []  \n",
    "    for match_id, start, end in matches:  \n",
    "        span = doc[start:end]  \n",
    "        noun_phrase = ' '.join([token.text for token in span]).strip()  \n",
    "        noun_phrases.append(noun_phrase)  "
   ]
  },
  {
   "cell_type": "code",
   "execution_count": 24,
   "id": "13068d41-54b6-4522-afd7-8447597ea4ab",
   "metadata": {},
   "outputs": [
    {
     "data": {
      "image/png": "[encoded data removed]",
      "text/plain": [
       "<Figure size 800x800 with 1 Axes>"
      ]
     },
     "metadata": {},
     "output_type": "display_data"
    }
   ],
   "source": [
    "# 统计名词短语的数量  \n",
    "noun_phrase_counts = Counter(noun_phrases)  \n",
    "  \n",
    "# 绘制词云  \n",
    "wordcloud = WordCloud(width = 800, height = 800,   \n",
    "                background_color ='white',    \n",
    "                stopwords = None,   \n",
    "                min_font_size = 10).generate_from_frequencies(noun_phrase_counts)  \n",
    "  \n",
    "# 显示词云图  \n",
    "plt.figure(figsize = (8, 8), facecolor = None)   \n",
    "plt.imshow(wordcloud)   \n",
    "plt.axis(\"off\")   \n",
    "plt.tight_layout(pad = 0)   \n",
    "plt.show()"
   ]
  },
  {
   "cell_type": "code",
   "execution_count": null,
   "id": "53954b6b-9b61-4411-8d48-5b46ff8df6c7",
   "metadata": {},
   "outputs": [],
   "source": []
  },
  {
   "cell_type": "code",
   "execution_count": 35,
   "id": "7dbb85cc-d056-429c-9876-ed23c3c165fd",
   "metadata": {
    "tags": []
   },
   "outputs": [],
   "source": [
    "# spark.stop()"
   ]
  }
 ],
 "metadata": {
  "kernelspec": {
   "display_name": "Python sp",
   "language": "python",
   "name": "sp"
  },
  "language_info": {
   "codemirror_mode": {
    "name": "ipython",
    "version": 3
   },
   "file_extension": ".py",
   "mimetype": "text/x-python",
   "name": "python",
   "nbconvert_exporter": "python",
   "pygments_lexer": "ipython3",
   "version": "3.11.7"
  }
 },
 "nbformat": 4,
 "nbformat_minor": 5
}
