{
 "cells": [
  {
   "cell_type": "code",
   "execution_count": 1,
   "id": "e42bf617-f132-4a54-86a5-dd7d3d3e3e05",
   "metadata": {
    "tags": []
   },
   "outputs": [
    {
     "data": {
      "text/plain": [
       "'3.5.0'"
      ]
     },
     "execution_count": 1,
     "metadata": {},
     "output_type": "execute_result"
    }
   ],
   "source": [
    "import pandas as pd\n",
    "import numpy as np\n",
    "import os\n",
    "import glob\n",
    "import tempfile\n",
    "\n",
    "import pyspark\n",
    "import pyspark.sql.functions as F\n",
    "from pyspark.sql import SparkSession\n",
    "from pyspark.sql import Row\n",
    "from pyspark.sql.functions import col, explode, split, sum as spark_sum, countDistinct, collect_list, to_timestamp, lit, round\n",
    "from pyspark.sql.types import StructType, StructField, StringType, LongType, BooleanType, DoubleType,ArrayType\n",
    "\n",
    "import matplotlib.pyplot as plt\n",
    "import seaborn as sns\n",
    "import requests\n",
    "from bs4 import BeautifulSoup\n",
    "import json\n",
    "import time\n",
    "import re\n",
    "from time import sleep\n",
    "\n",
    "import spacy  \n",
    "from spacy.matcher import Matcher  \n",
    "from collections import Counter  \n",
    "from wordcloud import WordCloud  \n",
    "import matplotlib.pyplot as plt \n",
    "\n",
    "pyspark.__version__"
   ]
  },
  {
   "cell_type": "code",
   "execution_count": 2,
   "id": "169f5348-ca99-411c-a1f1-7139458eccb4",
   "metadata": {
    "tags": []
   },
   "outputs": [
    {
     "name": "stderr",
     "output_type": "stream",
     "text": [
      "Setting default log level to \"WARN\".\n",
      "To adjust logging level use sc.setLogLevel(newLevel). For SparkR, use setLogLevel(newLevel).\n",
      "24/04/20 15:07:00 WARN NativeCodeLoader: Unable to load native-hadoop library for your platform... using builtin-java classes where applicable\n"
     ]
    },
    {
     "data": {
      "text/plain": [
       "DataFrame[key: string, value: string]"
      ]
     },
     "execution_count": 2,
     "metadata": {},
     "output_type": "execute_result"
    }
   ],
   "source": [
    "spark = SparkSession.builder.config('spark.ui.port', 64053).appName(\"project1\").getOrCreate()\n",
    "spark.sql(\"set spark.sql.legacy.timeParserPolicy=LEGACY\")"
   ]
  },
  {
   "cell_type": "code",
   "execution_count": 3,
   "id": "4f7c624c-3bac-4a9c-acac-4f5ef7ca9025",
   "metadata": {
    "tags": []
   },
   "outputs": [],
   "source": [
    "# 加载Spacy英文模型  \n",
    "nlp = spacy.load(\"en_core_web_sm\", disable=['parser', 'ner'])  \n",
    "  \n",
    "# 创建一个Matcher对象  \n",
    "matcher = Matcher(nlp.vocab)  \n",
    "  \n",
    "# 定义名词性短语的规则，这里我们使用名词短语的结构，例如名词短语可能是一个名词后跟一个或多个形容词或名词  \n",
    "# 注意：这个规则很基础，可能无法捕获所有名词短语，你可以根据需要添加更多复杂的规则  \n",
    "# 定义模式\n",
    "pattern = [{'POS': {'IN': ['ADJ', 'NOUN']}, 'OP':'+'}, {'POS': 'NOUN'}]\n",
    "\n",
    "# 添加模式到匹配器\n",
    "matcher.add(\"NounPhrase\", [pattern])"
   ]
  },
  {
   "cell_type": "code",
   "execution_count": 4,
   "id": "95234acd-fbf5-4076-bf4c-341d49369420",
   "metadata": {
    "tags": []
   },
   "outputs": [],
   "source": [
    "schema_wc = StructType([  \n",
    "    StructField(\"word\", StringType(), False),\n",
    "    StructField(\"count\", LongType(), False)\n",
    "])\n",
    "empty_rdd = spark.sparkContext.emptyRDD()\n",
    "df_noun = spark.createDataFrame(empty_rdd, schema_wc) # 生成一个空表，用于拼接"
   ]
  },
  {
   "cell_type": "code",
   "execution_count": 5,
   "id": "9d3b722f-1f15-4b07-9bab-b37fa0d5130b",
   "metadata": {
    "tags": []
   },
   "outputs": [],
   "source": [
    "schema_w = StructType([  \n",
    "    StructField(\"word\", StringType(), False)\n",
    "])\n",
    "empty_rdd = spark.sparkContext.emptyRDD()\n",
    "df_test = spark.createDataFrame(empty_rdd, schema_w) # 生成一个空表，用于拼接"
   ]
  },
  {
   "cell_type": "code",
   "execution_count": 6,
   "id": "b222eda5-0ceb-4587-af13-7ebdb17eea2d",
   "metadata": {
    "tags": []
   },
   "outputs": [],
   "source": [
    "empty_pattern = r'^[ \\n]*$' # 只包含空格和换行\n",
    "rabbish_lines = ['Want to start a startup? Get funded by Y Combinator .', 'Like to build things? Try Hacker News .']# 出现多次，似乎是广告信息\n",
    "path = \"./paul_articles/General and Surprising.txt\"\n",
    "months = r'(January|February|March|April|May|June|July|August|September|October|November|December)'\n",
    "year = r'\\d{4}'\n",
    "date_pattern = r'{} {}'.format(months, year)"
   ]
  },
  {
   "cell_type": "code",
   "execution_count": 7,
   "id": "cc17299a-7ea5-4400-92c8-caf242dce1a6",
   "metadata": {
    "tags": []
   },
   "outputs": [
    {
     "name": "stderr",
     "output_type": "stream",
     "text": [
      "                                                                                \r"
     ]
    },
    {
     "name": "stdout",
     "output_type": "stream",
     "text": [
      "1 6,631,372.txt select SUCCESSFULLY\n",
      "2 A Fundraising Survival Guide.txt select SUCCESSFULLY\n",
      "3 A Local Revolution?.txt select SUCCESSFULLY\n",
      "4 A New Venture Animal.txt select SUCCESSFULLY\n",
      "5 A Plan for Spam.txt select SUCCESSFULLY\n",
      "6 A Project of One's Own.txt select SUCCESSFULLY\n",
      "7 A Student's Guide to Startups.txt select SUCCESSFULLY\n",
      "8 A Unified Theory of VC Suckage.txt select SUCCESSFULLY\n",
      "9 A Version 1.0.txt select SUCCESSFULLY\n",
      "10 A Way to Detect Bias.txt select SUCCESSFULLY\n",
      "11 A Word to the Resourceful.txt select SUCCESSFULLY\n",
      "12 After Credentials.txt select SUCCESSFULLY\n",
      "13 After the Ladder.txt select SUCCESSFULLY\n",
      "14 Alien Truth.txt select SUCCESSFULLY\n",
      "15 An Alternative Theory of Unions.txt select SUCCESSFULLY\n",
      "16 An NFT That Saves Lives.txt select SUCCESSFULLY\n",
      "17 Apple's Mistake.txt select SUCCESSFULLY\n",
      "18 Are Software Patents Evil?.txt select SUCCESSFULLY\n",
      "19 Be Good.txt select SUCCESSFULLY\n",
      "20 Beating the Averages.txt select SUCCESSFULLY\n",
      "21 Before the Startup.txt select SUCCESSFULLY\n",
      "22 Being Popular.txt select SUCCESSFULLY\n",
      "23 Being a Noob.txt select SUCCESSFULLY\n",
      "24 Better Bayesian Filtering.txt select SUCCESSFULLY\n",
      "25 Beyond Smart.txt select SUCCESSFULLY\n",
      "26 Billionaires Build.txt select SUCCESSFULLY\n",
      "27 Black Swan Farming.txt select SUCCESSFULLY\n",
      "28 Bradley's Ghost.txt select SUCCESSFULLY\n",
      "29 Can You Buy a Silicon Valley?  Maybe..txt select SUCCESSFULLY\n",
      "30 Change Your Name.txt select SUCCESSFULLY\n",
      "31 Charisma _ Power.txt select SUCCESSFULLY\n",
      "32 Cities and Ambition.txt select SUCCESSFULLY\n",
      "33 Copy What You Like.txt select SUCCESSFULLY\n",
      "34 Coronavirus and Credibility.txt select SUCCESSFULLY\n",
      "35 Could VC be a Casualty of the Recession?.txt select SUCCESSFULLY\n",
      "36 Crazy New Ideas.txt select SUCCESSFULLY\n",
      "37 Default Alive or Default Dead?.txt select SUCCESSFULLY\n",
      "38 Defining Property.txt select SUCCESSFULLY\n",
      "39 Design and Research.txt select SUCCESSFULLY\n",
      "40 Disconnecting Distraction.txt select SUCCESSFULLY\n",
      "41 Do Things that Don't Scale.txt select SUCCESSFULLY\n",
      "42 Don't Talk to Corp Dev.txt select SUCCESSFULLY\n",
      "43 Donate Unrestricted.txt select SUCCESSFULLY\n",
      "44 Early Work.txt select SUCCESSFULLY\n",
      "45 Earnestness.txt select SUCCESSFULLY\n",
      "46 Economic Inequality.txt select SUCCESSFULLY\n",
      "47 Fashionable Problems.txt select SUCCESSFULLY\n",
      "48 Fierce Nerds.txt select SUCCESSFULLY\n",
      "49 Filters that Fight Back.txt select SUCCESSFULLY\n",
      "50 Five Founders.txt select SUCCESSFULLY\n",
      "51 Five Questions about Language Design.txt select SUCCESSFULLY\n",
      "52 Founder Control.txt select SUCCESSFULLY\n",
      "53 Frighteningly Ambitious Startup Ideas.txt select SUCCESSFULLY\n",
      "54 General and Surprising.txt select SUCCESSFULLY\n",
      "55 Good and Bad Procrastination.txt select SUCCESSFULLY\n",
      "56 Great Hackers.txt select SUCCESSFULLY\n",
      "57 Hackers and Painters.txt select SUCCESSFULLY\n",
      "58 Haters.txt select SUCCESSFULLY\n",
      "59 Having Kids.txt select SUCCESSFULLY\n",
      "60 Heresy.txt select SUCCESSFULLY\n",
      "61 High Resolution Fundraising .txt select SUCCESSFULLY\n",
      "62 Hiring is Obsolete.txt select SUCCESSFULLY\n",
      "63 Holding a Program in One's Head.txt select SUCCESSFULLY\n",
      "64 How Art Can Be Good.txt select SUCCESSFULLY\n",
      "65 How Not to Die.txt select SUCCESSFULLY\n",
      "66 How People Get Rich Now.txt select SUCCESSFULLY\n",
      "67 How Y Combinator Started.txt select SUCCESSFULLY\n",
      "68 How You Know.txt select SUCCESSFULLY\n",
      "69 How to Be Silicon Valley.txt select SUCCESSFULLY\n",
      "70 How to Be an Angel Investor.txt select SUCCESSFULLY\n",
      "71 How to Be an Expert in a Changing World.txt select SUCCESSFULLY\n",
      "72 How to Convince Investors.txt select SUCCESSFULLY\n",
      "73 How to Disagree.txt select SUCCESSFULLY\n",
      "74 How to Do Great Work.txt select SUCCESSFULLY\n",
      "75 How to Do Philosophy.txt select SUCCESSFULLY\n",
      "76 How to Do What You Love.txt select SUCCESSFULLY\n",
      "77 How to Fund a Startup.txt select SUCCESSFULLY\n",
      "78 How to Get New Ideas.txt select SUCCESSFULLY\n",
      "79 How to Get Startup Ideas.txt select SUCCESSFULLY\n",
      "80 How to Lose Time and Money .txt select SUCCESSFULLY\n",
      "81 How to Make Pittsburgh a Startup Hub.txt select SUCCESSFULLY\n",
      "82 How to Make Wealth.txt select SUCCESSFULLY\n",
      "83 How to Present to Investors.txt select SUCCESSFULLY\n",
      "84 How to Raise Money.txt select SUCCESSFULLY\n",
      "85 How to Start Google.txt select SUCCESSFULLY\n",
      "86 How to Start a Startup.txt select SUCCESSFULLY\n",
      "87 How to Think for Yourself.txt select SUCCESSFULLY\n",
      "88 How to Work Hard.txt select SUCCESSFULLY\n",
      "89 How to Write Usefully.txt select SUCCESSFULLY\n",
      "90 Ideas for Startups.txt select SUCCESSFULLY\n",
      "91 If Lisp is So Great.txt select SUCCESSFULLY\n",
      "92 Inequality and Risk.txt select SUCCESSFULLY\n",
      "93 Investor Herd Dynamics.txt select SUCCESSFULLY\n",
      "94 Is It Worth Being Wise?.txt select SUCCESSFULLY\n",
      "95 Is There Such a Thing as Good Taste?.txt select SUCCESSFULLY\n",
      "96 It's Charisma, Stupid.txt select SUCCESSFULLY\n",
      "97 Java's Cover.txt select SUCCESSFULLY\n",
      "98 Jessica Livingston.txt select SUCCESSFULLY\n",
      "99 Keep Your Identity Small  .txt select SUCCESSFULLY\n",
      "100 Learning from Founders.txt select SUCCESSFULLY\n",
      "101 Let the Other 95% of Great Programmers In.txt select SUCCESSFULLY\n",
      "102 Lies We Tell Kids.txt select SUCCESSFULLY\n",
      "103 Life is Short.txt select SUCCESSFULLY\n",
      "104 Lisp for Web-Based Applications.txt select SUCCESSFULLY\n",
      "105 Made in USA.txt select SUCCESSFULLY\n",
      "106 Maker's Schedule, Manager's Schedule .txt select SUCCESSFULLY\n",
      "107 Mean People Fail.txt select SUCCESSFULLY\n",
      "108 Microsoft is Dead.txt select SUCCESSFULLY\n",
      "109 Mind the Gap.txt select SUCCESSFULLY\n",
      "110 Modeling a Wealth Tax.txt select SUCCESSFULLY\n",
      "111 News from the Front.txt select SUCCESSFULLY\n",
      "112 Novelty and Heresy.txt select SUCCESSFULLY\n",
      "113 Organic Startup Ideas.txt select SUCCESSFULLY\n",
      "114 Orthodox Privilege.txt select SUCCESSFULLY\n",
      "115 Persuade xor Discover .txt select SUCCESSFULLY\n",
      "116 Post-Medium Publishing.txt select SUCCESSFULLY\n",
      "117 Programming Bottom-Up.txt select SUCCESSFULLY\n",
      "118 Putting Ideas into Words.txt select SUCCESSFULLY\n",
      "119 Ramen Profitable.txt select SUCCESSFULLY\n",
      "120 Relentlessly Resourceful.txt select SUCCESSFULLY\n",
      "121 Return of the Mac.txt select SUCCESSFULLY\n",
      "122 Revenge of the Nerds.txt select SUCCESSFULLY\n",
      "123 Schlep Blindness.txt select SUCCESSFULLY\n",
      "124 See Randomness.txt select SUCCESSFULLY\n",
      "125 Six Principles for Making New Things.txt select SUCCESSFULLY\n",
      "126 Snapshot: Viaweb, June 1998.txt select SUCCESSFULLY\n",
      "127 Some Heroes.txt select SUCCESSFULLY\n",
      "128 Startup = Growth.txt select SUCCESSFULLY\n",
      "129 Startup Investing Trends.txt select SUCCESSFULLY\n",
      "130 Startups in 13 Sentences.txt select SUCCESSFULLY\n",
      "131 Stuff.txt select SUCCESSFULLY\n",
      "132 Subject: Airbnb.txt select SUCCESSFULLY\n",
      "133 Succinctness is Power.txt select SUCCESSFULLY\n",
      "134 Superlinear Returns.txt select SUCCESSFULLY\n",
      "135 Tablets.txt select SUCCESSFULLY\n",
      "136 Taste for Makers.txt select SUCCESSFULLY\n",
      "137 The 18 Mistakes That Kill Startups.txt select SUCCESSFULLY\n",
      "138 The Acceleration of Addictiveness.txt select SUCCESSFULLY\n",
      "139 The Age of the Essay.txt select SUCCESSFULLY\n",
      "140 The Airbnbs.txt select SUCCESSFULLY\n",
      "141 The Anatomy of Determination .txt select SUCCESSFULLY\n",
      "142 The Best Essay.txt select SUCCESSFULLY\n",
      "143 The Bus Ticket Theory of Genius.txt select SUCCESSFULLY\n",
      "144 The Equity Equation.txt select SUCCESSFULLY\n",
      "145 The Fatal Pinch.txt select SUCCESSFULLY\n",
      "146 The Founder Visa.txt select SUCCESSFULLY\n",
      "147 The Four Quadrants of Conformism.txt select SUCCESSFULLY\n",
      "148 The Future of Startup Funding .txt select SUCCESSFULLY\n",
      "149 The Future of Web Startups.txt select SUCCESSFULLY\n",
      "150 The Hacker's Guide to Investors.txt select SUCCESSFULLY\n",
      "151 The Hardest Lessons for Startups to Learn.txt select SUCCESSFULLY\n",
      "152 The Hardware Renaissance.txt select SUCCESSFULLY\n",
      "153 The High-Res Society.txt select SUCCESSFULLY\n",
      "154 The Hundred-Year Language.txt select SUCCESSFULLY\n",
      "155 The Island Test.txt select SUCCESSFULLY\n",
      "156 The Lesson to Unlearn.txt select SUCCESSFULLY\n",
      "157 The List of N Things.txt select SUCCESSFULLY\n",
      "158 The Need to Read.txt select SUCCESSFULLY\n",
      "159 The New Funding Landscape.txt select SUCCESSFULLY\n",
      "160 The Other Half of \"Artists Ship\"  .txt select SUCCESSFULLY\n",
      "161 The Other Road Ahead.txt select SUCCESSFULLY\n",
      "162 The Patent Pledge.txt select SUCCESSFULLY\n",
      "163 The Pooled-Risk Company Management Company.txt select SUCCESSFULLY\n",
      "164 The Power of the Marginal.txt select SUCCESSFULLY\n",
      "165 The Python Paradox.txt select SUCCESSFULLY\n",
      "166 The Real Reason to End the Death Penalty.txt select SUCCESSFULLY\n",
      "167 The Reddits.txt select SUCCESSFULLY\n",
      "168 The Refragmentation.txt select SUCCESSFULLY\n",
      "169 The Risk of Discovery.txt select SUCCESSFULLY\n",
      "170 The Ronco Principle.txt select SUCCESSFULLY\n",
      "171 The Roots of Lisp.txt select SUCCESSFULLY\n",
      "172 The Submarine.txt select SUCCESSFULLY\n",
      "173 The Top Idea in Your Mind .txt select SUCCESSFULLY\n",
      "174 The Top of My Todo List.txt select SUCCESSFULLY\n",
      "175 The Trouble with the Segway.txt select SUCCESSFULLY\n",
      "176 The Two Kinds of Moderate.txt select SUCCESSFULLY\n",
      "177 The Venture Capital Squeeze.txt select SUCCESSFULLY\n",
      "178 The Word \"Hacker\".txt select SUCCESSFULLY\n",
      "179 This Year We Can End the Death Penalty in California.txt select SUCCESSFULLY\n",
      "180 Trolls.txt select SUCCESSFULLY\n",
      "181 Two Kinds of Judgement.txt select SUCCESSFULLY\n",
      "182 Undergraduation.txt select SUCCESSFULLY\n",
      "183 Web 2.0.txt select SUCCESSFULLY\n",
      "184 Weird Languages.txt select SUCCESSFULLY\n",
      "185 What Business Can Learn from Open Source.txt select SUCCESSFULLY\n",
      "186 What Doesn't Seem Like Work?.txt select SUCCESSFULLY\n",
      "187 What Happened to Yahoo .txt select SUCCESSFULLY\n",
      "188 What I Did this Summer.txt select SUCCESSFULLY\n",
      "189 What I Worked On.txt select SUCCESSFULLY\n",
      "190 What I've Learned from Hacker News.txt select SUCCESSFULLY\n",
      "191 What I've Learned from Users.txt select SUCCESSFULLY\n",
      "192 What Kate Saw in Silicon Valley  .txt select SUCCESSFULLY\n",
      "193 What Languages Fix.txt select SUCCESSFULLY\n",
      "194 What Made Lisp Different.txt select SUCCESSFULLY\n",
      "195 What Microsoft Is this the Altair Basic of?.txt select SUCCESSFULLY\n",
      "196 What Startups Are Really Like.txt select SUCCESSFULLY\n",
      "197 What We Look for in Founders.txt select SUCCESSFULLY\n",
      "198 What You (Want to)* Want.txt select SUCCESSFULLY\n",
      "199 What You Can't Say.txt select SUCCESSFULLY\n",
      "200 What You'll Wish You'd Known.txt select SUCCESSFULLY\n",
      "201 What the Bubble Got Right.txt select SUCCESSFULLY\n",
      "202 Where to See Silicon Valley.txt select SUCCESSFULLY\n",
      "203 Why Arc Isn't Especially Object-Oriented.txt select SUCCESSFULLY\n",
      "204 Why It's Safe for Founders to Be Nice.txt select SUCCESSFULLY\n",
      "205 Why Nerds are Unpopular.txt select SUCCESSFULLY\n",
      "206 Why Smart People Have Bad Ideas.txt select SUCCESSFULLY\n",
      "207 Why Startup Hubs Work.txt select SUCCESSFULLY\n",
      "208 Why Startups Condense in America.txt select SUCCESSFULLY\n",
      "209 Why TV Lost.txt select SUCCESSFULLY\n",
      "210 Why There Aren't More Googles.txt select SUCCESSFULLY\n",
      "211 Why Twitter is a Big Deal.txt select SUCCESSFULLY\n",
      "212 Why YC.txt select SUCCESSFULLY\n",
      "213 Why to Move to a Startup Hub.txt select SUCCESSFULLY\n",
      "214 Why to Not Not Start a Startup.txt select SUCCESSFULLY\n",
      "215 Why to Start a Startup in a Bad Economy.txt select SUCCESSFULLY\n",
      "216 Write Like You Talk.txt select SUCCESSFULLY\n",
      "217 Write Simply.txt select SUCCESSFULLY\n",
      "218 Writing and Speaking.txt select SUCCESSFULLY\n",
      "219 Writing,  Briefly.txt select SUCCESSFULLY\n",
      "220 You Weren't Meant to Have a Boss.txt select SUCCESSFULLY\n"
     ]
    }
   ],
   "source": [
    "# 输入的文本\n",
    "files = os.listdir('./paul_articles/')\n",
    "files.remove('Chapter 1 of Ansi Common Lisp.txt')\n",
    "files.remove('Chapter 2 of Ansi Common Lisp.txt')\n",
    "files.sort()\n",
    "if '.ipynb_checkpoints' in files:\n",
    "    files.remove('.ipynb_checkpoints')\n",
    "\n",
    "empty_pattern = r'^[ \\n]*$' # 只包含空格和换行\n",
    "rabbish_lines = ['Want to start a startup? Get funded by Y Combinator .', 'Like to build things? Try Hacker News .']# 出现多次，似乎是广告信息\n",
    "i=1\n",
    "for file in files:\n",
    "    text = \"\"\n",
    "    path = f'./paul_articles/{file}'\n",
    "    with open(path, 'r', encoding='utf-8') as f:\n",
    "        title = f.readline()\n",
    "        date = f.readline()\n",
    "        if re.match(date_pattern, date) or (date.strip() in rabbish_lines):#判断是否为日期或垃圾信息，是则跳过\n",
    "            ph = f.readline()\n",
    "        else:\n",
    "            ph = date\n",
    "\n",
    "        while ph != '':\n",
    "            if not re.match(empty_pattern, ph): #判断为非空行\n",
    "                text += ph\n",
    "            ph = f.readline()\n",
    "\n",
    "    # 处理文本  \n",
    "    doc = nlp(text)  \n",
    "    matches = matcher(doc)  \n",
    "\n",
    "    # 提取名词短语并计数  \n",
    "    noun_phrases = []  \n",
    "    for match_id, start, end in matches:  \n",
    "        span = doc[start:end]  \n",
    "        noun_phrase = ' '.join([token.text for token in span]).strip()\n",
    "        noun_phrases.append(noun_phrase)  \n",
    "        \n",
    "    rdd = spark.sparkContext.parallelize(zip(noun_phrases))\n",
    "    try:\n",
    "        tmp_df = rdd.toDF([\"word\"])\n",
    "    except:\n",
    "        print(file)\n",
    "    # tmp_cnt = tmp_df.groupBy(\"word\").agg(F.count(\"*\").alias(\"count\"))\n",
    "    # df_noun = df_noun.union(tmp_cnt)\n",
    "    # df_noun = df_noun.groupBy(\"word\").agg(F.sum(col(\"count\")).alias(\"count\")).orderBy(F.desc(col(\"count\"))).limit(100)\n",
    "    df_test = df_test.union(tmp_df)\n",
    "    \n",
    "    print(f'{i} {file} select SUCCESSFULLY')\n",
    "    i += 1"
   ]
  },
  {
   "cell_type": "code",
   "execution_count": 12,
   "id": "158e4a6d-5981-48c3-a2a1-0498d11cfcd8",
   "metadata": {
    "tags": []
   },
   "outputs": [],
   "source": [
    "from pyspark.sql.window import Window\n",
    "# 使用 groupBy 和 count 统计每个单词的出现次数\n",
    "df_test = df_test.groupBy(\"word\").agg(F.count(\"*\").alias(\"count\"))\n",
    "windowSpec = Window.orderBy(col(\"count\").desc())\n",
    "# 按照出现次数降序排序，并取前100个\n",
    "df_test = df_test.withColumn(\"rank\", F.rank().over(windowSpec)).filter((col(\"rank\") >= 40) & (col(\"rank\") <= 50))\n",
    "#df_test = df_test"
   ]
  },
  {
   "cell_type": "code",
   "execution_count": 15,
   "id": "635c53ba-2a85-4836-b4a8-5c9214abbdbb",
   "metadata": {
    "tags": []
   },
   "outputs": [
    {
     "name": "stdout",
     "output_type": "stream",
     "text": [
      "[]\n"
     ]
    },
    {
     "name": "stderr",
     "output_type": "stream",
     "text": [
      "24/04/20 15:15:21 WARN DAGScheduler: Broadcasting large task binary with size 1354.9 KiB\n"
     ]
    }
   ],
   "source": [
    "word_counts = df_test.collect()\n",
    "# 假设 word_counts 是一个包含 Row 对象的列表，每个 Row 对象都有 word 和 count 属性  \n",
    "word_dict = {row.word: row.count for row in word_counts}\n",
    "print(word_counts)"
   ]
  },
  {
   "cell_type": "code",
   "execution_count": 13,
   "id": "272874f4-8e8d-4203-a6a8-3347cd0fc7ad",
   "metadata": {
    "tags": []
   },
   "outputs": [
    {
     "name": "stderr",
     "output_type": "stream",
     "text": [
      "24/04/20 15:09:42 WARN WindowExec: No Partition Defined for Window operation! Moving all data to a single partition, this can cause serious performance degradation.\n",
      "24/04/20 15:09:42 WARN WindowExec: No Partition Defined for Window operation! Moving all data to a single partition, this can cause serious performance degradation.\n",
      "24/04/20 15:09:42 WARN WindowExec: No Partition Defined for Window operation! Moving all data to a single partition, this can cause serious performance degradation.\n",
      "24/04/20 15:09:43 WARN DAGScheduler: Broadcasting large task binary with size 1701.4 KiB\n",
      "24/04/20 15:12:55 WARN WindowExec: No Partition Defined for Window operation! Moving all data to a single partition, this can cause serious performance degradation.\n",
      "24/04/20 15:12:55 WARN WindowExec: No Partition Defined for Window operation! Moving all data to a single partition, this can cause serious performance degradation.\n",
      "24/04/20 15:12:56 WARN DAGScheduler: Broadcasting large task binary with size 1367.1 KiB\n",
      "24/04/20 15:12:56 WARN WindowExec: No Partition Defined for Window operation! Moving all data to a single partition, this can cause serious performance degradation.\n",
      "24/04/20 15:12:56 WARN WindowExec: No Partition Defined for Window operation! Moving all data to a single partition, this can cause serious performance degradation.\n",
      "24/04/20 15:12:56 WARN DAGScheduler: Broadcasting large task binary with size 1354.9 KiB\n",
      "                                                                                \r"
     ]
    },
    {
     "ename": "ValueError",
     "evalue": "We need at least 1 word to plot a word cloud, got 0.",
     "output_type": "error",
     "traceback": [
      "\u001b[0;31m---------------------------------------------------------------------------\u001b[0m",
      "\u001b[0;31mValueError\u001b[0m                                Traceback (most recent call last)",
      "Cell \u001b[0;32mIn[13], line 6\u001b[0m\n\u001b[1;32m      3\u001b[0m word_dict \u001b[38;5;241m=\u001b[39m {row\u001b[38;5;241m.\u001b[39mword: row\u001b[38;5;241m.\u001b[39mcount \u001b[38;5;28;01mfor\u001b[39;00m row \u001b[38;5;129;01min\u001b[39;00m word_counts}  \n\u001b[1;32m      5\u001b[0m \u001b[38;5;66;03m# 绘制词云  \u001b[39;00m\n\u001b[0;32m----> 6\u001b[0m wordcloud \u001b[38;5;241m=\u001b[39m WordCloud(width\u001b[38;5;241m=\u001b[39m\u001b[38;5;241m800\u001b[39m, height\u001b[38;5;241m=\u001b[39m\u001b[38;5;241m400\u001b[39m, background_color \u001b[38;5;241m=\u001b[39m\u001b[38;5;124m'\u001b[39m\u001b[38;5;124mwhite\u001b[39m\u001b[38;5;124m'\u001b[39m)\u001b[38;5;241m.\u001b[39mgenerate_from_frequencies(word_dict)  \n\u001b[1;32m      8\u001b[0m \u001b[38;5;66;03m# 显示词云图  \u001b[39;00m\n\u001b[1;32m      9\u001b[0m plt\u001b[38;5;241m.\u001b[39mfigure(figsize\u001b[38;5;241m=\u001b[39m(\u001b[38;5;241m8\u001b[39m, \u001b[38;5;241m8\u001b[39m), facecolor\u001b[38;5;241m=\u001b[39m\u001b[38;5;28;01mNone\u001b[39;00m)  \n",
      "File \u001b[0;32m~/anaconda3/envs/sp/lib/python3.11/site-packages/wordcloud/wordcloud.py:410\u001b[0m, in \u001b[0;36mWordCloud.generate_from_frequencies\u001b[0;34m(self, frequencies, max_font_size)\u001b[0m\n\u001b[1;32m    408\u001b[0m frequencies \u001b[38;5;241m=\u001b[39m \u001b[38;5;28msorted\u001b[39m(frequencies\u001b[38;5;241m.\u001b[39mitems(), key\u001b[38;5;241m=\u001b[39mitemgetter(\u001b[38;5;241m1\u001b[39m), reverse\u001b[38;5;241m=\u001b[39m\u001b[38;5;28;01mTrue\u001b[39;00m)\n\u001b[1;32m    409\u001b[0m \u001b[38;5;28;01mif\u001b[39;00m \u001b[38;5;28mlen\u001b[39m(frequencies) \u001b[38;5;241m<\u001b[39m\u001b[38;5;241m=\u001b[39m \u001b[38;5;241m0\u001b[39m:\n\u001b[0;32m--> 410\u001b[0m     \u001b[38;5;28;01mraise\u001b[39;00m \u001b[38;5;167;01mValueError\u001b[39;00m(\u001b[38;5;124m\"\u001b[39m\u001b[38;5;124mWe need at least 1 word to plot a word cloud, \u001b[39m\u001b[38;5;124m\"\u001b[39m\n\u001b[1;32m    411\u001b[0m                      \u001b[38;5;124m\"\u001b[39m\u001b[38;5;124mgot \u001b[39m\u001b[38;5;132;01m%d\u001b[39;00m\u001b[38;5;124m.\u001b[39m\u001b[38;5;124m\"\u001b[39m \u001b[38;5;241m%\u001b[39m \u001b[38;5;28mlen\u001b[39m(frequencies))\n\u001b[1;32m    412\u001b[0m frequencies \u001b[38;5;241m=\u001b[39m frequencies[:\u001b[38;5;28mself\u001b[39m\u001b[38;5;241m.\u001b[39mmax_words]\n\u001b[1;32m    414\u001b[0m \u001b[38;5;66;03m# largest entry will be 1\u001b[39;00m\n",
      "\u001b[0;31mValueError\u001b[0m: We need at least 1 word to plot a word cloud, got 0."
     ]
    }
   ],
   "source": [
    "word_counts = df_test.collect()\n",
    "# 假设 word_counts 是一个包含 Row 对象的列表，每个 Row 对象都有 word 和 count 属性  \n",
    "word_dict = {row.word: row.count for row in word_counts}  \n",
    "  \n",
    "# 绘制词云  \n",
    "wordcloud = WordCloud(width=800, height=400, background_color ='white').generate_from_frequencies(word_dict)  \n",
    "  \n",
    "# 显示词云图  \n",
    "plt.figure(figsize=(8, 8), facecolor=None)  \n",
    "plt.imshow(wordcloud, interpolation='bilinear')  \n",
    "plt.axis(\"off\")  \n",
    "plt.show()"
   ]
  },
  {
   "cell_type": "code",
   "execution_count": null,
   "id": "3cd9cea6-f384-42cf-96e8-546584fd6c74",
   "metadata": {},
   "outputs": [],
   "source": []
  }
 ],
 "metadata": {
  "kernelspec": {
   "display_name": "Python sp",
   "language": "python",
   "name": "sp"
  },
  "language_info": {
   "codemirror_mode": {
    "name": "ipython",
    "version": 3
   },
   "file_extension": ".py",
   "mimetype": "text/x-python",
   "name": "python",
   "nbconvert_exporter": "python",
   "pygments_lexer": "ipython3",
   "version": "3.11.7"
  }
 },
 "nbformat": 4,
 "nbformat_minor": 5
}
